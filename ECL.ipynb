{
 "cells": [
  {
   "cell_type": "code",
   "execution_count": 2,
   "metadata": {},
   "outputs": [],
   "source": [
    "library('ggplot2')"
   ]
  },
  {
   "cell_type": "code",
   "execution_count": 3,
   "metadata": {},
   "outputs": [
    {
     "name": "stderr",
     "output_type": "stream",
     "text": [
      "\n",
      "Attaching package: 'aTSA'\n",
      "\n",
      "\n",
      "The following object is masked from 'package:graphics':\n",
      "\n",
      "    identify\n",
      "\n",
      "\n"
     ]
    }
   ],
   "source": [
    "library('aTSA')"
   ]
  },
  {
   "cell_type": "code",
   "execution_count": 4,
   "metadata": {},
   "outputs": [
    {
     "name": "stderr",
     "output_type": "stream",
     "text": [
      "Registered S3 method overwritten by 'quantmod':\n",
      "  method            from\n",
      "  as.zoo.data.frame zoo \n",
      "\n",
      "\n",
      "Attaching package: 'tseries'\n",
      "\n",
      "\n",
      "The following objects are masked from 'package:aTSA':\n",
      "\n",
      "    adf.test, kpss.test, pp.test\n",
      "\n",
      "\n"
     ]
    }
   ],
   "source": [
    "library('tseries')"
   ]
  },
  {
   "cell_type": "code",
   "execution_count": 5,
   "metadata": {},
   "outputs": [],
   "source": [
    "library('urca')"
   ]
  },
  {
   "cell_type": "code",
   "execution_count": 6,
   "metadata": {},
   "outputs": [
    {
     "name": "stderr",
     "output_type": "stream",
     "text": [
      "Loading required package: MASS\n",
      "\n",
      "Loading required package: strucchange\n",
      "\n",
      "Loading required package: zoo\n",
      "\n",
      "\n",
      "Attaching package: 'zoo'\n",
      "\n",
      "\n",
      "The following objects are masked from 'package:base':\n",
      "\n",
      "    as.Date, as.Date.numeric\n",
      "\n",
      "\n",
      "Loading required package: sandwich\n",
      "\n",
      "Loading required package: lmtest\n",
      "\n",
      "\n",
      "Attaching package: 'vars'\n",
      "\n",
      "\n",
      "The following object is masked from 'package:aTSA':\n",
      "\n",
      "    arch.test\n",
      "\n",
      "\n"
     ]
    }
   ],
   "source": [
    "library('vars')"
   ]
  },
  {
   "cell_type": "code",
   "execution_count": 7,
   "metadata": {},
   "outputs": [],
   "source": [
    "library('tsDyn')"
   ]
  },
  {
   "cell_type": "code",
   "execution_count": 8,
   "metadata": {},
   "outputs": [
    {
     "name": "stderr",
     "output_type": "stream",
     "text": [
      "Loading required package: lattice\n",
      "\n",
      "Loading required package: survival\n",
      "\n",
      "Loading required package: Formula\n",
      "\n",
      "\n",
      "Attaching package: 'Hmisc'\n",
      "\n",
      "\n",
      "The following objects are masked from 'package:base':\n",
      "\n",
      "    format.pval, units\n",
      "\n",
      "\n"
     ]
    }
   ],
   "source": [
    "library('Hmisc')"
   ]
  },
  {
   "cell_type": "code",
   "execution_count": 32,
   "metadata": {},
   "outputs": [
    {
     "name": "stderr",
     "output_type": "stream",
     "text": [
      "Loading required package: fabletools\n",
      "\n",
      "\n",
      "Attaching package: 'fabletools'\n",
      "\n",
      "\n",
      "The following object is masked from 'package:tsDyn':\n",
      "\n",
      "    MAPE\n",
      "\n",
      "\n",
      "The following objects are masked from 'package:aTSA':\n",
      "\n",
      "    estimate, forecast\n",
      "\n",
      "\n"
     ]
    }
   ],
   "source": [
    "library('feasts')"
   ]
  },
  {
   "cell_type": "code",
   "execution_count": 29,
   "metadata": {},
   "outputs": [
    {
     "name": "stderr",
     "output_type": "stream",
     "text": [
      "\n",
      "Attaching package: 'tsibble'\n",
      "\n",
      "\n",
      "The following object is masked from 'package:zoo':\n",
      "\n",
      "    index\n",
      "\n",
      "\n"
     ]
    }
   ],
   "source": [
    "library('tsibble')"
   ]
  },
  {
   "cell_type": "code",
   "execution_count": 30,
   "metadata": {},
   "outputs": [
    {
     "name": "stderr",
     "output_type": "stream",
     "text": [
      "\n",
      "Attaching package: 'lubridate'\n",
      "\n",
      "\n",
      "The following object is masked from 'package:tsibble':\n",
      "\n",
      "    interval\n",
      "\n",
      "\n",
      "The following objects are masked from 'package:base':\n",
      "\n",
      "    date, intersect, setdiff, union\n",
      "\n",
      "\n"
     ]
    }
   ],
   "source": [
    "library('lubridate')"
   ]
  },
  {
   "cell_type": "code",
   "execution_count": 43,
   "metadata": {},
   "outputs": [],
   "source": [
    "library(\"ggpubr\")"
   ]
  },
  {
   "cell_type": "code",
   "execution_count": 88,
   "metadata": {},
   "outputs": [],
   "source": [
    "library('dyn')"
   ]
  },
  {
   "cell_type": "code",
   "execution_count": 144,
   "metadata": {},
   "outputs": [
    {
     "name": "stderr",
     "output_type": "stream",
     "text": [
      "\n",
      "Attaching package: 'DataCombine'\n",
      "\n",
      "\n",
      "The following object is masked from 'package:tsibble':\n",
      "\n",
      "    slide\n",
      "\n",
      "\n"
     ]
    }
   ],
   "source": [
    "library('DataCombine')"
   ]
  },
  {
   "cell_type": "code",
   "execution_count": 166,
   "metadata": {},
   "outputs": [],
   "source": [
    "library(tidyverse)"
   ]
  },
  {
   "cell_type": "code",
   "execution_count": 143,
   "metadata": {},
   "outputs": [
    {
     "name": "stderr",
     "output_type": "stream",
     "text": [
      "Installing package into 'C:/Users/pawel/OneDrive/Dokumenty/R/win-library/4.0'\n",
      "(as 'lib' is unspecified)\n",
      "\n"
     ]
    },
    {
     "name": "stdout",
     "output_type": "stream",
     "text": [
      "package 'DataCombine' successfully unpacked and MD5 sums checked\n",
      "\n",
      "The downloaded binary packages are in\n",
      "\tC:\\Users\\pawel\\AppData\\Local\\Temp\\Rtmpq6ysuP\\downloaded_packages\n"
     ]
    }
   ],
   "source": [
    "install.packages('DataCombine')"
   ]
  },
  {
   "cell_type": "code",
   "execution_count": 110,
   "metadata": {},
   "outputs": [],
   "source": [
    "# 1. Define simulation parameters\n",
    "# 1.1. Vector of constants\n",
    "ka <- matrix(c(0.2,0.2),2,1)"
   ]
  },
  {
   "cell_type": "code",
   "execution_count": 112,
   "metadata": {},
   "outputs": [
    {
     "data": {
      "text/html": [
       "<table>\n",
       "<caption>A matrix: 2 × 1 of type dbl</caption>\n",
       "<tbody>\n",
       "\t<tr><td>0.2</td></tr>\n",
       "\t<tr><td>0.2</td></tr>\n",
       "</tbody>\n",
       "</table>\n"
      ],
      "text/latex": [
       "A matrix: 2 × 1 of type dbl\n",
       "\\begin{tabular}{l}\n",
       "\t 0.2\\\\\n",
       "\t 0.2\\\\\n",
       "\\end{tabular}\n"
      ],
      "text/markdown": [
       "\n",
       "A matrix: 2 × 1 of type dbl\n",
       "\n",
       "| 0.2 |\n",
       "| 0.2 |\n",
       "\n"
      ],
      "text/plain": [
       "     [,1]\n",
       "[1,] 0.2 \n",
       "[2,] 0.2 "
      ]
     },
     "metadata": {},
     "output_type": "display_data"
    }
   ],
   "source": [
    "ka"
   ]
  },
  {
   "cell_type": "code",
   "execution_count": 113,
   "metadata": {},
   "outputs": [],
   "source": [
    "# 1.2. Covariance matrix\n",
    "Omega <- matrix(c(1.0, 0.8, 0.8, 1.0),2,2)"
   ]
  },
  {
   "cell_type": "code",
   "execution_count": 3,
   "metadata": {},
   "outputs": [
    {
     "data": {
      "text/html": [
       "<table>\n",
       "<caption>A matrix: 2 × 2 of type dbl</caption>\n",
       "<tbody>\n",
       "\t<tr><td>1.0</td><td>0.8</td></tr>\n",
       "\t<tr><td>0.8</td><td>1.0</td></tr>\n",
       "</tbody>\n",
       "</table>\n"
      ],
      "text/latex": [
       "A matrix: 2 × 2 of type dbl\n",
       "\\begin{tabular}{ll}\n",
       "\t 1.0 & 0.8\\\\\n",
       "\t 0.8 & 1.0\\\\\n",
       "\\end{tabular}\n"
      ],
      "text/markdown": [
       "\n",
       "A matrix: 2 × 2 of type dbl\n",
       "\n",
       "| 1.0 | 0.8 |\n",
       "| 0.8 | 1.0 |\n",
       "\n"
      ],
      "text/plain": [
       "     [,1] [,2]\n",
       "[1,] 1.0  0.8 \n",
       "[2,] 0.8  1.0 "
      ]
     },
     "metadata": {},
     "output_type": "display_data"
    }
   ],
   "source": [
    "Omega"
   ]
  },
  {
   "cell_type": "code",
   "execution_count": 4,
   "metadata": {},
   "outputs": [
    {
     "data": {
      "text/html": [
       "<table>\n",
       "<caption>A matrix: 2 × 1 of type dbl</caption>\n",
       "<tbody>\n",
       "\t<tr><td>0.2</td></tr>\n",
       "\t<tr><td>0.2</td></tr>\n",
       "</tbody>\n",
       "</table>\n"
      ],
      "text/latex": [
       "A matrix: 2 × 1 of type dbl\n",
       "\\begin{tabular}{l}\n",
       "\t 0.2\\\\\n",
       "\t 0.2\\\\\n",
       "\\end{tabular}\n"
      ],
      "text/markdown": [
       "\n",
       "A matrix: 2 × 1 of type dbl\n",
       "\n",
       "| 0.2 |\n",
       "| 0.2 |\n",
       "\n"
      ],
      "text/plain": [
       "     [,1]\n",
       "[1,] 0.2 \n",
       "[2,] 0.2 "
      ]
     },
     "metadata": {},
     "output_type": "display_data"
    }
   ],
   "source": [
    "ka"
   ]
  },
  {
   "cell_type": "code",
   "execution_count": 114,
   "metadata": {},
   "outputs": [],
   "source": [
    "Om <- chol(Omega)"
   ]
  },
  {
   "cell_type": "code",
   "execution_count": 115,
   "metadata": {},
   "outputs": [
    {
     "data": {
      "text/html": [
       "<table>\n",
       "<caption>A matrix: 2 × 2 of type dbl</caption>\n",
       "<tbody>\n",
       "\t<tr><td>1</td><td>0.8</td></tr>\n",
       "\t<tr><td>0</td><td>0.6</td></tr>\n",
       "</tbody>\n",
       "</table>\n"
      ],
      "text/latex": [
       "A matrix: 2 × 2 of type dbl\n",
       "\\begin{tabular}{ll}\n",
       "\t 1 & 0.8\\\\\n",
       "\t 0 & 0.6\\\\\n",
       "\\end{tabular}\n"
      ],
      "text/markdown": [
       "\n",
       "A matrix: 2 × 2 of type dbl\n",
       "\n",
       "| 1 | 0.8 |\n",
       "| 0 | 0.6 |\n",
       "\n"
      ],
      "text/plain": [
       "     [,1] [,2]\n",
       "[1,] 1    0.8 \n",
       "[2,] 0    0.6 "
      ]
     },
     "metadata": {},
     "output_type": "display_data"
    }
   ],
   "source": [
    "Om"
   ]
  },
  {
   "cell_type": "code",
   "execution_count": 116,
   "metadata": {},
   "outputs": [],
   "source": [
    "A1 <- matrix(c(0.3,0.2,0.2,0.3),2,2)"
   ]
  },
  {
   "cell_type": "code",
   "execution_count": 117,
   "metadata": {},
   "outputs": [
    {
     "data": {
      "text/html": [
       "<table>\n",
       "<caption>A matrix: 2 × 2 of type dbl</caption>\n",
       "<tbody>\n",
       "\t<tr><td>0.3</td><td>0.2</td></tr>\n",
       "\t<tr><td>0.2</td><td>0.3</td></tr>\n",
       "</tbody>\n",
       "</table>\n"
      ],
      "text/latex": [
       "A matrix: 2 × 2 of type dbl\n",
       "\\begin{tabular}{ll}\n",
       "\t 0.3 & 0.2\\\\\n",
       "\t 0.2 & 0.3\\\\\n",
       "\\end{tabular}\n"
      ],
      "text/markdown": [
       "\n",
       "A matrix: 2 × 2 of type dbl\n",
       "\n",
       "| 0.3 | 0.2 |\n",
       "| 0.2 | 0.3 |\n",
       "\n"
      ],
      "text/plain": [
       "     [,1] [,2]\n",
       "[1,] 0.3  0.2 \n",
       "[2,] 0.2  0.3 "
      ]
     },
     "metadata": {},
     "output_type": "display_data"
    }
   ],
   "source": [
    "A1"
   ]
  },
  {
   "cell_type": "code",
   "execution_count": 118,
   "metadata": {},
   "outputs": [],
   "source": [
    "# 1.4. Simulation matrix\n",
    "mX <- matrix(0.0, 2, 50)"
   ]
  },
  {
   "cell_type": "code",
   "execution_count": 121,
   "metadata": {},
   "outputs": [],
   "source": [
    "# 1.5. Initial values\n",
    "mX[,1] <- c(1.0420, 1.0720)"
   ]
  },
  {
   "cell_type": "code",
   "execution_count": 123,
   "metadata": {},
   "outputs": [],
   "source": [
    "# 2. VAR(1) simulation\n",
    "set.seed(123)\n",
    "mZeta <- matrix(rnorm(2*50),2,50)"
   ]
  },
  {
   "cell_type": "code",
   "execution_count": 130,
   "metadata": {},
   "outputs": [
    {
     "data": {
      "text/html": [
       "<style>\n",
       ".list-inline {list-style: none; margin:0; padding: 0}\n",
       ".list-inline>li {display: inline-block}\n",
       ".list-inline>li:not(:last-child)::after {content: \"\\00b7\"; padding: 0 .5ex}\n",
       "</style>\n",
       "<ol class=list-inline><li>1.55870831414912</li><li>0.070508391424576</li></ol>\n"
      ],
      "text/latex": [
       "\\begin{enumerate*}\n",
       "\\item 1.55870831414912\n",
       "\\item 0.070508391424576\n",
       "\\end{enumerate*}\n"
      ],
      "text/markdown": [
       "1. 1.55870831414912\n",
       "2. 0.070508391424576\n",
       "\n",
       "\n"
      ],
      "text/plain": [
       "[1] 1.55870831 0.07050839"
      ]
     },
     "metadata": {},
     "output_type": "display_data"
    }
   ],
   "source": [
    "mZeta[,2]"
   ]
  },
  {
   "cell_type": "code",
   "execution_count": 126,
   "metadata": {},
   "outputs": [
    {
     "data": {
      "text/html": [
       "<style>\n",
       ".list-inline {list-style: none; margin:0; padding: 0}\n",
       ".list-inline>li {display: inline-block}\n",
       ".list-inline>li:not(:last-child)::after {content: \"\\00b7\"; padding: 0 .5ex}\n",
       "</style>\n",
       "<ol class=list-inline><li>1.042</li><li>1.072</li></ol>\n"
      ],
      "text/latex": [
       "\\begin{enumerate*}\n",
       "\\item 1.042\n",
       "\\item 1.072\n",
       "\\end{enumerate*}\n"
      ],
      "text/markdown": [
       "1. 1.042\n",
       "2. 1.072\n",
       "\n",
       "\n"
      ],
      "text/plain": [
       "[1] 1.042 1.072"
      ]
     },
     "metadata": {},
     "output_type": "display_data"
    }
   ],
   "source": [
    "mX[,1]"
   ]
  },
  {
   "cell_type": "code",
   "execution_count": 132,
   "metadata": {},
   "outputs": [],
   "source": [
    "for (t in 2:ncol(mX))\n",
    "{ mX[,t] <- ka + A1 %*% mX[,t-1] +t(Om) %*% mZeta[,t] }"
   ]
  },
  {
   "cell_type": "code",
   "execution_count": 133,
   "metadata": {},
   "outputs": [
    {
     "data": {
      "image/png": "[encoded data removed]",
      "text/plain": [
       "plot without title"
      ]
     },
     "metadata": {
      "image/png": {
       "height": 420,
       "width": 420
      }
     },
     "output_type": "display_data"
    }
   ],
   "source": [
    "plot(mX[1,], type='l')"
   ]
  },
  {
   "cell_type": "code",
   "execution_count": 134,
   "metadata": {},
   "outputs": [
    {
     "data": {
      "image/png": "[encoded data removed]",
      "text/plain": [
       "plot without title"
      ]
     },
     "metadata": {
      "image/png": {
       "height": 420,
       "width": 420
      }
     },
     "output_type": "display_data"
    }
   ],
   "source": [
    "plot(mX[2,], type='l')"
   ]
  },
  {
   "cell_type": "code",
   "execution_count": 139,
   "metadata": {},
   "outputs": [],
   "source": [
    "macv_init<-read.csv('uk_macv.csv', fileEncoding=\"UTF-8-BOM\")"
   ]
  },
  {
   "cell_type": "code",
   "execution_count": 140,
   "metadata": {},
   "outputs": [],
   "source": [
    "macv<- macv_init[2:54,]"
   ]
  },
  {
   "cell_type": "code",
   "execution_count": 143,
   "metadata": {},
   "outputs": [
    {
     "data": {
      "text/html": [
       "<style>\n",
       ".list-inline {list-style: none; margin:0; padding: 0}\n",
       ".list-inline>li {display: inline-block}\n",
       ".list-inline>li:not(:last-child)::after {content: \"\\00b7\"; padding: 0 .5ex}\n",
       "</style>\n",
       "<ol class=list-inline><li>4.593451803</li><li>4.603310578</li><li>4.608943738</li><li>4.614893113</li><li>4.616626201</li><li>4.621872836</li><li>4.626058817</li><li>4.625187794</li><li>4.628679066</li><li>4.634337909</li><li>4.641209159</li><li>4.650257579</li><li>4.65887633</li><li>4.664247587</li><li>4.669938408</li><li>4.67632146</li><li>4.679305115</li><li>4.682386928</li><li>4.684793417</li><li>4.690663697</li><li>4.69692672</li><li>4.701505013</li><li>4.707984871</li><li>4.711834516</li><li>4.716649241</li><li>4.723447218</li><li>4.731572956</li><li>4.738851078</li><li>4.744926691</li><li>4.74865564</li><li>4.74907073</li><li>4.759934507</li><li>4.768287815</li><li>4.781627508</li><li>4.796240036</li><li>4.798263717</li><li>4.797521634</li><li>4.802570735</li><li>4.811175398</li><li>4.819153417</li><li>4.828914967</li><li>4.836419739</li><li>4.842135424</li><li>4.852244403</li><li>4.86871089</li><li>4.879309001</li><li>4.888942353</li><li>4.898069324</li><li>4.902420229</li><li>4.906370778</li><li>4.91318646</li><li>4.924340272</li><li>4.929465374</li></ol>\n"
      ],
      "text/latex": [
       "\\begin{enumerate*}\n",
       "\\item 4.593451803\n",
       "\\item 4.603310578\n",
       "\\item 4.608943738\n",
       "\\item 4.614893113\n",
       "\\item 4.616626201\n",
       "\\item 4.621872836\n",
       "\\item 4.626058817\n",
       "\\item 4.625187794\n",
       "\\item 4.628679066\n",
       "\\item 4.634337909\n",
       "\\item 4.641209159\n",
       "\\item 4.650257579\n",
       "\\item 4.65887633\n",
       "\\item 4.664247587\n",
       "\\item 4.669938408\n",
       "\\item 4.67632146\n",
       "\\item 4.679305115\n",
       "\\item 4.682386928\n",
       "\\item 4.684793417\n",
       "\\item 4.690663697\n",
       "\\item 4.69692672\n",
       "\\item 4.701505013\n",
       "\\item 4.707984871\n",
       "\\item 4.711834516\n",
       "\\item 4.716649241\n",
       "\\item 4.723447218\n",
       "\\item 4.731572956\n",
       "\\item 4.738851078\n",
       "\\item 4.744926691\n",
       "\\item 4.74865564\n",
       "\\item 4.74907073\n",
       "\\item 4.759934507\n",
       "\\item 4.768287815\n",
       "\\item 4.781627508\n",
       "\\item 4.796240036\n",
       "\\item 4.798263717\n",
       "\\item 4.797521634\n",
       "\\item 4.802570735\n",
       "\\item 4.811175398\n",
       "\\item 4.819153417\n",
       "\\item 4.828914967\n",
       "\\item 4.836419739\n",
       "\\item 4.842135424\n",
       "\\item 4.852244403\n",
       "\\item 4.86871089\n",
       "\\item 4.879309001\n",
       "\\item 4.888942353\n",
       "\\item 4.898069324\n",
       "\\item 4.902420229\n",
       "\\item 4.906370778\n",
       "\\item 4.91318646\n",
       "\\item 4.924340272\n",
       "\\item 4.929465374\n",
       "\\end{enumerate*}\n"
      ],
      "text/markdown": [
       "1. 4.593451803\n",
       "2. 4.603310578\n",
       "3. 4.608943738\n",
       "4. 4.614893113\n",
       "5. 4.616626201\n",
       "6. 4.621872836\n",
       "7. 4.626058817\n",
       "8. 4.625187794\n",
       "9. 4.628679066\n",
       "10. 4.634337909\n",
       "11. 4.641209159\n",
       "12. 4.650257579\n",
       "13. 4.65887633\n",
       "14. 4.664247587\n",
       "15. 4.669938408\n",
       "16. 4.67632146\n",
       "17. 4.679305115\n",
       "18. 4.682386928\n",
       "19. 4.684793417\n",
       "20. 4.690663697\n",
       "21. 4.69692672\n",
       "22. 4.701505013\n",
       "23. 4.707984871\n",
       "24. 4.711834516\n",
       "25. 4.716649241\n",
       "26. 4.723447218\n",
       "27. 4.731572956\n",
       "28. 4.738851078\n",
       "29. 4.744926691\n",
       "30. 4.74865564\n",
       "31. 4.74907073\n",
       "32. 4.759934507\n",
       "33. 4.768287815\n",
       "34. 4.781627508\n",
       "35. 4.796240036\n",
       "36. 4.798263717\n",
       "37. 4.797521634\n",
       "38. 4.802570735\n",
       "39. 4.811175398\n",
       "40. 4.819153417\n",
       "41. 4.828914967\n",
       "42. 4.836419739\n",
       "43. 4.842135424\n",
       "44. 4.852244403\n",
       "45. 4.86871089\n",
       "46. 4.879309001\n",
       "47. 4.888942353\n",
       "48. 4.898069324\n",
       "49. 4.902420229\n",
       "50. 4.906370778\n",
       "51. 4.91318646\n",
       "52. 4.924340272\n",
       "53. 4.929465374\n",
       "\n",
       "\n"
      ],
      "text/plain": [
       " [1] 4.593452 4.603311 4.608944 4.614893 4.616626 4.621873 4.626059 4.625188\n",
       " [9] 4.628679 4.634338 4.641209 4.650258 4.658876 4.664248 4.669938 4.676321\n",
       "[17] 4.679305 4.682387 4.684793 4.690664 4.696927 4.701505 4.707985 4.711835\n",
       "[25] 4.716649 4.723447 4.731573 4.738851 4.744927 4.748656 4.749071 4.759935\n",
       "[33] 4.768288 4.781628 4.796240 4.798264 4.797522 4.802571 4.811175 4.819153\n",
       "[41] 4.828915 4.836420 4.842135 4.852244 4.868711 4.879309 4.888942 4.898069\n",
       "[49] 4.902420 4.906371 4.913186 4.924340 4.929465"
      ]
     },
     "metadata": {},
     "output_type": "display_data"
    }
   ],
   "source": [
    "macv$LN_CPI"
   ]
  },
  {
   "cell_type": "code",
   "execution_count": 144,
   "metadata": {},
   "outputs": [
    {
     "data": {
      "text/plain": [
       "\n",
       "\tAugmented Dickey-Fuller Test\n",
       "\n",
       "data:  macv$LN_CPI\n",
       "Dickey-Fuller = -1.4107, Lag order = 3, p-value = 0.8117\n",
       "alternative hypothesis: stationary\n"
      ]
     },
     "metadata": {},
     "output_type": "display_data"
    }
   ],
   "source": [
    "adf.test(macv$LN_CPI)"
   ]
  },
  {
   "cell_type": "code",
   "execution_count": 145,
   "metadata": {},
   "outputs": [],
   "source": [
    "macv$LN_GDP_D <- diff(macv_init[,\"LN_GDP\"], lag = 1)\n",
    "macv$LN_CPI_D <- diff(macv_init[,\"LN_CPI\"], lag = 1)\n",
    "macv$LN_EQ_D <- diff(macv_init[,\"LN_EQ\"], lag = 1)\n",
    "macv$LN_FX_D <- diff(macv_init[,\"LN_FX\"], lag = 1)\n",
    "macv$IR_S_D <- diff(macv_init[,\"IR_S\"], lag = 1)\n",
    "macv$IR_L_D <- diff(macv_init[,\"IR_L\"], lag = 1)"
   ]
  },
  {
   "cell_type": "code",
   "execution_count": null,
   "metadata": {},
   "outputs": [],
   "source": [
    "VECM <- VECM(macv[, c('LN_GDP','LN_CPI', 'LN_EQ', 'LN_FX', 'IR_S', 'IR_L')], lag = 6, r = 3, estim = 'ML')"
   ]
  },
  {
   "cell_type": "code",
   "execution_count": null,
   "metadata": {},
   "outputs": [],
   "source": [
    "summary(VECM)"
   ]
  },
  {
   "cell_type": "code",
   "execution_count": 209,
   "metadata": {},
   "outputs": [],
   "source": [
    "# optimal lag\n",
    "lag <- VARselect(macv[, c('LN_GDP_D','LN_CPI_D', 'LN_EQ_D', 'LN_FX_D', 'IR_S_D', 'IR_L_D')])"
   ]
  },
  {
   "cell_type": "code",
   "execution_count": 210,
   "metadata": {},
   "outputs": [
    {
     "data": {
      "text/html": [
       "<dl>\n",
       "\t<dt>$selection</dt>\n",
       "\t\t<dd><style>\n",
       ".dl-inline {width: auto; margin:0; padding: 0}\n",
       ".dl-inline>dt, .dl-inline>dd {float: none; width: auto; display: inline-block}\n",
       ".dl-inline>dt::after {content: \":\\0020\"; padding-right: .5ex}\n",
       ".dl-inline>dt:not(:first-of-type) {padding-left: .5ex}\n",
       "</style><dl class=dl-inline><dt>AIC(n)</dt><dd>7</dd><dt>HQ(n)</dt><dd>7</dd><dt>SC(n)</dt><dd>7</dd><dt>FPE(n)</dt><dd>8</dd></dl>\n",
       "</dd>\n",
       "\t<dt>$criteria</dt>\n",
       "\t\t<dd><table>\n",
       "<caption>A matrix: 4 × 10 of type dbl</caption>\n",
       "<thead>\n",
       "\t<tr><th></th><th scope=col>1</th><th scope=col>2</th><th scope=col>3</th><th scope=col>4</th><th scope=col>5</th><th scope=col>6</th><th scope=col>7</th><th scope=col>8</th><th scope=col>9</th><th scope=col>10</th></tr>\n",
       "</thead>\n",
       "<tbody>\n",
       "\t<tr><th scope=row>AIC(n)</th><td>-6.303665e+01</td><td>-6.248774e+01</td><td>-6.200877e+01</td><td>-6.322344e+01</td><td>-6.522639e+01</td><td>-7.160265e+01</td><td>-Inf</td><td>-Inf</td><td>-Inf</td><td>-Inf</td></tr>\n",
       "\t<tr><th scope=row>HQ(n)</th><td>-6.240228e+01</td><td>-6.130962e+01</td><td>-6.028690e+01</td><td>-6.095783e+01</td><td>-6.241703e+01</td><td>-6.824954e+01</td><td>-Inf</td><td>-Inf</td><td>-Inf</td><td>-Inf</td></tr>\n",
       "\t<tr><th scope=row>SC(n)</th><td>-6.131641e+01</td><td>-5.929301e+01</td><td>-5.733954e+01</td><td>-5.707972e+01</td><td>-5.760818e+01</td><td>-6.250994e+01</td><td>-Inf</td><td>-Inf</td><td>-Inf</td><td>-Inf</td></tr>\n",
       "\t<tr><th scope=row>FPE(n)</th><td> 4.277069e-28</td><td> 8.179746e-28</td><td> 1.738783e-27</td><td> 9.459432e-28</td><td> 4.525724e-28</td><td> 1.474534e-29</td><td> NaN</td><td>   0</td><td>   0</td><td>   0</td></tr>\n",
       "</tbody>\n",
       "</table>\n",
       "</dd>\n",
       "</dl>\n"
      ],
      "text/latex": [
       "\\begin{description}\n",
       "\\item[\\$selection] \\begin{description*}\n",
       "\\item[AIC(n)] 7\n",
       "\\item[HQ(n)] 7\n",
       "\\item[SC(n)] 7\n",
       "\\item[FPE(n)] 8\n",
       "\\end{description*}\n",
       "\n",
       "\\item[\\$criteria] A matrix: 4 × 10 of type dbl\n",
       "\\begin{tabular}{r|llllllllll}\n",
       "  & 1 & 2 & 3 & 4 & 5 & 6 & 7 & 8 & 9 & 10\\\\\n",
       "\\hline\n",
       "\tAIC(n) & -6.303665e+01 & -6.248774e+01 & -6.200877e+01 & -6.322344e+01 & -6.522639e+01 & -7.160265e+01 & -Inf & -Inf & -Inf & -Inf\\\\\n",
       "\tHQ(n) & -6.240228e+01 & -6.130962e+01 & -6.028690e+01 & -6.095783e+01 & -6.241703e+01 & -6.824954e+01 & -Inf & -Inf & -Inf & -Inf\\\\\n",
       "\tSC(n) & -6.131641e+01 & -5.929301e+01 & -5.733954e+01 & -5.707972e+01 & -5.760818e+01 & -6.250994e+01 & -Inf & -Inf & -Inf & -Inf\\\\\n",
       "\tFPE(n) &  4.277069e-28 &  8.179746e-28 &  1.738783e-27 &  9.459432e-28 &  4.525724e-28 &  1.474534e-29 &  NaN &    0 &    0 &    0\\\\\n",
       "\\end{tabular}\n",
       "\n",
       "\\end{description}\n"
      ],
      "text/markdown": [
       "$selection\n",
       ":   AIC(n)\n",
       ":   7HQ(n)\n",
       ":   7SC(n)\n",
       ":   7FPE(n)\n",
       ":   8\n",
       "\n",
       "\n",
       "$criteria\n",
       ":   \n",
       "A matrix: 4 × 10 of type dbl\n",
       "\n",
       "| <!--/--> | 1 | 2 | 3 | 4 | 5 | 6 | 7 | 8 | 9 | 10 |\n",
       "|---|---|---|---|---|---|---|---|---|---|---|\n",
       "| AIC(n) | -6.303665e+01 | -6.248774e+01 | -6.200877e+01 | -6.322344e+01 | -6.522639e+01 | -7.160265e+01 | -Inf | -Inf | -Inf | -Inf |\n",
       "| HQ(n) | -6.240228e+01 | -6.130962e+01 | -6.028690e+01 | -6.095783e+01 | -6.241703e+01 | -6.824954e+01 | -Inf | -Inf | -Inf | -Inf |\n",
       "| SC(n) | -6.131641e+01 | -5.929301e+01 | -5.733954e+01 | -5.707972e+01 | -5.760818e+01 | -6.250994e+01 | -Inf | -Inf | -Inf | -Inf |\n",
       "| FPE(n) |  4.277069e-28 |  8.179746e-28 |  1.738783e-27 |  9.459432e-28 |  4.525724e-28 |  1.474534e-29 |  NaN |    0 |    0 |    0 |\n",
       "\n",
       "\n",
       "\n",
       "\n"
      ],
      "text/plain": [
       "$selection\n",
       "AIC(n)  HQ(n)  SC(n) FPE(n) \n",
       "     7      7      7      8 \n",
       "\n",
       "$criteria\n",
       "                   1             2             3             4             5\n",
       "AIC(n) -6.303665e+01 -6.248774e+01 -6.200877e+01 -6.322344e+01 -6.522639e+01\n",
       "HQ(n)  -6.240228e+01 -6.130962e+01 -6.028690e+01 -6.095783e+01 -6.241703e+01\n",
       "SC(n)  -6.131641e+01 -5.929301e+01 -5.733954e+01 -5.707972e+01 -5.760818e+01\n",
       "FPE(n)  4.277069e-28  8.179746e-28  1.738783e-27  9.459432e-28  4.525724e-28\n",
       "                   6    7    8    9   10\n",
       "AIC(n) -7.160265e+01 -Inf -Inf -Inf -Inf\n",
       "HQ(n)  -6.824954e+01 -Inf -Inf -Inf -Inf\n",
       "SC(n)  -6.250994e+01 -Inf -Inf -Inf -Inf\n",
       "FPE(n)  1.474534e-29  NaN    0    0    0\n"
      ]
     },
     "metadata": {},
     "output_type": "display_data"
    }
   ],
   "source": [
    "lag"
   ]
  },
  {
   "cell_type": "code",
   "execution_count": 159,
   "metadata": {},
   "outputs": [],
   "source": [
    "# bitcoin"
   ]
  },
  {
   "cell_type": "code",
   "execution_count": 192,
   "metadata": {},
   "outputs": [],
   "source": [
    "data_ira <- read.csv('C:/Users/pawel/PycharmProjects/quandl/ira.csv')"
   ]
  },
  {
   "cell_type": "code",
   "execution_count": 193,
   "metadata": {},
   "outputs": [],
   "source": [
    "data_ira$X<-NULL"
   ]
  },
  {
   "cell_type": "code",
   "execution_count": 194,
   "metadata": {},
   "outputs": [],
   "source": [
    "data_ira$date <- as.Date(data_ira$date)"
   ]
  },
  {
   "cell_type": "code",
   "execution_count": 195,
   "metadata": {},
   "outputs": [
    {
     "name": "stdout",
     "output_type": "stream",
     "text": [
      "'data.frame':\t260 obs. of  3 variables:\n",
      " $ date     : Date, format: \"2016-01-17\" \"2016-01-24\" ...\n",
      " $ change   : num  0 0 0 0 0 0 0 0 0 0 ...\n",
      " $ change_bt: num  -0.05571 0.00723 0.00259 -0.03542 0.01854 ...\n"
     ]
    }
   ],
   "source": [
    "str(data_ira)"
   ]
  },
  {
   "cell_type": "code",
   "execution_count": 196,
   "metadata": {},
   "outputs": [],
   "source": [
    "data_ira <- data_ira %>% \n",
    "  rename(\n",
    "    google_trends_change = change,\n",
    "    bitcoin_change = change_bt\n",
    "    )"
   ]
  },
  {
   "cell_type": "code",
   "execution_count": 201,
   "metadata": {},
   "outputs": [
    {
     "data": {
      "text/html": [
       "<table>\n",
       "<caption>A matrix: 2 × 1 of type dbl</caption>\n",
       "<tbody>\n",
       "\t<tr><td>0.01</td></tr>\n",
       "\t<tr><td>0.01</td></tr>\n",
       "</tbody>\n",
       "</table>\n"
      ],
      "text/latex": [
       "A matrix: 2 × 1 of type dbl\n",
       "\\begin{tabular}{l}\n",
       "\t 0.01\\\\\n",
       "\t 0.01\\\\\n",
       "\\end{tabular}\n"
      ],
      "text/markdown": [
       "\n",
       "A matrix: 2 × 1 of type dbl\n",
       "\n",
       "| 0.01 |\n",
       "| 0.01 |\n",
       "\n"
      ],
      "text/plain": [
       "     [,1]\n",
       "[1,] 0.01\n",
       "[2,] 0.01"
      ]
     },
     "metadata": {},
     "output_type": "display_data"
    }
   ],
   "source": [
    "#Phillips-Perron stationarity test\n",
    "pptab<-NULL\n",
    "for(i in 2:ncol(data_ira)){\n",
    "pp<-PP.test(data_ira[,i])\n",
    "pptab<-rbind(pptab,pp$p.value)\n",
    "}\n",
    "pptab"
   ]
  },
  {
   "cell_type": "code",
   "execution_count": 202,
   "metadata": {},
   "outputs": [],
   "source": [
    "# both time series are stationary at 0.01"
   ]
  },
  {
   "cell_type": "code",
   "execution_count": 203,
   "metadata": {},
   "outputs": [
    {
     "name": "stderr",
     "output_type": "stream",
     "text": [
      "`geom_smooth()` using formula 'y ~ x'\n",
      "\n"
     ]
    },
    {
     "data": {
      "image/png": "[encoded data removed]",
      "text/plain": [
       "plot without title"
      ]
     },
     "metadata": {
      "image/png": {
       "height": 420,
       "width": 420
      }
     },
     "output_type": "display_data"
    }
   ],
   "source": [
    "ggscatter(data_ira[2:3], x = \"google_trends_change\", y = \"bitcoin_change\",\n",
    "          color = \"blue\", cor.coef = TRUE, conf.int = TRUE,\n",
    "          cor.method = \"spearman\", add = 'reg.line',\n",
    "          xlab = \"google trends\", ylab = \"bitcoin\")"
   ]
  },
  {
   "cell_type": "code",
   "execution_count": 204,
   "metadata": {},
   "outputs": [],
   "source": [
    "res <- cor.test(data_ira$google_trends_change, data_ira$bitcoin_change, \n",
    "                    method = \"pearson\")"
   ]
  },
  {
   "cell_type": "code",
   "execution_count": 205,
   "metadata": {},
   "outputs": [
    {
     "data": {
      "text/plain": [
       "\n",
       "\tPearson's product-moment correlation\n",
       "\n",
       "data:  data_ira$google_trends_change and data_ira$bitcoin_change\n",
       "t = 1.3211, df = 258, p-value = 0.1876\n",
       "alternative hypothesis: true correlation is not equal to 0\n",
       "95 percent confidence interval:\n",
       " -0.04007991  0.20161652\n",
       "sample estimates:\n",
       "       cor \n",
       "0.08197345 \n"
      ]
     },
     "metadata": {},
     "output_type": "display_data"
    }
   ],
   "source": [
    "res"
   ]
  },
  {
   "cell_type": "code",
   "execution_count": 206,
   "metadata": {},
   "outputs": [
    {
     "data": {
      "image/png": "[encoded data removed]",
      "text/plain": [
       "Plot with title \"data_ira$google_trends_change & data_ira$bitcoin_change\""
      ]
     },
     "metadata": {
      "image/png": {
       "height": 420,
       "width": 420
      }
     },
     "output_type": "display_data"
    }
   ],
   "source": [
    "# the correlation between google's trend log(t-1/t-2) and bitcoin log(t/t-1) is statistically significant\n",
    "ccf (data_ira$google_trends_change, data_ira$bitcoin_change, 3) "
   ]
  },
  {
   "cell_type": "code",
   "execution_count": 207,
   "metadata": {},
   "outputs": [],
   "source": [
    "lag_var <- Lag(data_ira$google_trends_change,+1)"
   ]
  },
  {
   "cell_type": "code",
   "execution_count": 208,
   "metadata": {},
   "outputs": [],
   "source": [
    "data_ira <- cbind(data_ira, lag_var)"
   ]
  },
  {
   "cell_type": "code",
   "execution_count": 209,
   "metadata": {},
   "outputs": [],
   "source": [
    "lm_model <- lm(bitcoin_change ~ lag_var, data = data_ira)"
   ]
  },
  {
   "cell_type": "code",
   "execution_count": 210,
   "metadata": {},
   "outputs": [
    {
     "data": {
      "text/plain": [
       "\n",
       "Call:\n",
       "lm(formula = bitcoin_change ~ lag_var, data = data_ira)\n",
       "\n",
       "Residuals:\n",
       "      Min        1Q    Median        3Q       Max \n",
       "-0.136891 -0.014323 -0.001774  0.011584  0.140525 \n",
       "\n",
       "Coefficients:\n",
       "            Estimate Std. Error t value Pr(>|t|)   \n",
       "(Intercept) 0.006154   0.002104   2.925  0.00375 **\n",
       "lag_var     0.024475   0.009196   2.661  0.00827 **\n",
       "---\n",
       "Signif. codes:  0 '***' 0.001 '**' 0.01 '*' 0.05 '.' 0.1 ' ' 1\n",
       "\n",
       "Residual standard error: 0.03382 on 257 degrees of freedom\n",
       "  (1 observation deleted due to missingness)\n",
       "Multiple R-squared:  0.02682,\tAdjusted R-squared:  0.02303 \n",
       "F-statistic: 7.083 on 1 and 257 DF,  p-value: 0.008274\n"
      ]
     },
     "metadata": {},
     "output_type": "display_data"
    }
   ],
   "source": [
    "summary(lm_model)"
   ]
  },
  {
   "cell_type": "code",
   "execution_count": 211,
   "metadata": {},
   "outputs": [
    {
     "data": {
      "image/png": "[encoded data removed]",
      "text/plain": [
       "Plot with title \"\""
      ]
     },
     "metadata": {
      "image/png": {
       "height": 420,
       "width": 420
      }
     },
     "output_type": "display_data"
    },
    {
     "data": {
      "image/png": "[encoded data removed]",
      "text/plain": [
       "Plot with title \"\""
      ]
     },
     "metadata": {
      "image/png": {
       "height": 420,
       "width": 420
      }
     },
     "output_type": "display_data"
    },
    {
     "data": {
      "image/png": "[encoded data removed]",
      "text/plain": [
       "Plot with title \"\""
      ]
     },
     "metadata": {
      "image/png": {
       "height": 420,
       "width": 420
      }
     },
     "output_type": "display_data"
    },
    {
     "data": {
      "image/png": "[encoded data removed]",
      "text/plain": [
       "Plot with title \"\""
      ]
     },
     "metadata": {
      "image/png": {
       "height": 420,
       "width": 420
      }
     },
     "output_type": "display_data"
    }
   ],
   "source": [
    "plot(lm_model)"
   ]
  },
  {
   "cell_type": "code",
   "execution_count": 212,
   "metadata": {},
   "outputs": [],
   "source": [
    "# optimal lag selection\n",
    "lag_bitcoin <- VARselect(data_ira[, c('google_trends_change','bitcoin_change')])"
   ]
  },
  {
   "cell_type": "code",
   "execution_count": 213,
   "metadata": {},
   "outputs": [
    {
     "data": {
      "text/html": [
       "<dl>\n",
       "\t<dt>$selection</dt>\n",
       "\t\t<dd><style>\n",
       ".dl-inline {width: auto; margin:0; padding: 0}\n",
       ".dl-inline>dt, .dl-inline>dd {float: none; width: auto; display: inline-block}\n",
       ".dl-inline>dt::after {content: \":\\0020\"; padding-right: .5ex}\n",
       ".dl-inline>dt:not(:first-of-type) {padding-left: .5ex}\n",
       "</style><dl class=dl-inline><dt>AIC(n)</dt><dd>1</dd><dt>HQ(n)</dt><dd>1</dd><dt>SC(n)</dt><dd>1</dd><dt>FPE(n)</dt><dd>1</dd></dl>\n",
       "</dd>\n",
       "\t<dt>$criteria</dt>\n",
       "\t\t<dd><table>\n",
       "<caption>A matrix: 4 × 10 of type dbl</caption>\n",
       "<thead>\n",
       "\t<tr><th></th><th scope=col>1</th><th scope=col>2</th><th scope=col>3</th><th scope=col>4</th><th scope=col>5</th><th scope=col>6</th><th scope=col>7</th><th scope=col>8</th><th scope=col>9</th><th scope=col>10</th></tr>\n",
       "</thead>\n",
       "<tbody>\n",
       "\t<tr><th scope=row>AIC(n)</th><td>-9.6452138813</td><td>-9.627848e+00</td><td>-9.603176e+00</td><td>-9.591649e+00</td><td>-9.582817e+00</td><td>-9.568111e+00</td><td>-9.554330e+00</td><td>-9.530508e+00</td><td>-9.503613e+00</td><td>-9.498421e+00</td></tr>\n",
       "\t<tr><th scope=row>HQ(n)</th><td>-9.6111990420</td><td>-9.571157e+00</td><td>-9.523808e+00</td><td>-9.489605e+00</td><td>-9.458096e+00</td><td>-9.420714e+00</td><td>-9.384256e+00</td><td>-9.337757e+00</td><td>-9.288185e+00</td><td>-9.260317e+00</td></tr>\n",
       "\t<tr><th scope=row>SC(n)</th><td>-9.5606988192</td><td>-9.486990e+00</td><td>-9.405974e+00</td><td>-9.338104e+00</td><td>-9.272929e+00</td><td>-9.201879e+00</td><td>-9.131755e+00</td><td>-9.051589e+00</td><td>-8.968350e+00</td><td>-8.906816e+00</td></tr>\n",
       "\t<tr><th scope=row>FPE(n)</th><td> 0.0000647348</td><td> 6.586933e-05</td><td> 6.751593e-05</td><td> 6.830093e-05</td><td> 6.891038e-05</td><td> 6.993645e-05</td><td> 7.091408e-05</td><td> 7.263327e-05</td><td> 7.462573e-05</td><td> 7.502964e-05</td></tr>\n",
       "</tbody>\n",
       "</table>\n",
       "</dd>\n",
       "</dl>\n"
      ],
      "text/latex": [
       "\\begin{description}\n",
       "\\item[\\$selection] \\begin{description*}\n",
       "\\item[AIC(n)] 1\n",
       "\\item[HQ(n)] 1\n",
       "\\item[SC(n)] 1\n",
       "\\item[FPE(n)] 1\n",
       "\\end{description*}\n",
       "\n",
       "\\item[\\$criteria] A matrix: 4 × 10 of type dbl\n",
       "\\begin{tabular}{r|llllllllll}\n",
       "  & 1 & 2 & 3 & 4 & 5 & 6 & 7 & 8 & 9 & 10\\\\\n",
       "\\hline\n",
       "\tAIC(n) & -9.6452138813 & -9.627848e+00 & -9.603176e+00 & -9.591649e+00 & -9.582817e+00 & -9.568111e+00 & -9.554330e+00 & -9.530508e+00 & -9.503613e+00 & -9.498421e+00\\\\\n",
       "\tHQ(n) & -9.6111990420 & -9.571157e+00 & -9.523808e+00 & -9.489605e+00 & -9.458096e+00 & -9.420714e+00 & -9.384256e+00 & -9.337757e+00 & -9.288185e+00 & -9.260317e+00\\\\\n",
       "\tSC(n) & -9.5606988192 & -9.486990e+00 & -9.405974e+00 & -9.338104e+00 & -9.272929e+00 & -9.201879e+00 & -9.131755e+00 & -9.051589e+00 & -8.968350e+00 & -8.906816e+00\\\\\n",
       "\tFPE(n) &  0.0000647348 &  6.586933e-05 &  6.751593e-05 &  6.830093e-05 &  6.891038e-05 &  6.993645e-05 &  7.091408e-05 &  7.263327e-05 &  7.462573e-05 &  7.502964e-05\\\\\n",
       "\\end{tabular}\n",
       "\n",
       "\\end{description}\n"
      ],
      "text/markdown": [
       "$selection\n",
       ":   AIC(n)\n",
       ":   1HQ(n)\n",
       ":   1SC(n)\n",
       ":   1FPE(n)\n",
       ":   1\n",
       "\n",
       "\n",
       "$criteria\n",
       ":   \n",
       "A matrix: 4 × 10 of type dbl\n",
       "\n",
       "| <!--/--> | 1 | 2 | 3 | 4 | 5 | 6 | 7 | 8 | 9 | 10 |\n",
       "|---|---|---|---|---|---|---|---|---|---|---|\n",
       "| AIC(n) | -9.6452138813 | -9.627848e+00 | -9.603176e+00 | -9.591649e+00 | -9.582817e+00 | -9.568111e+00 | -9.554330e+00 | -9.530508e+00 | -9.503613e+00 | -9.498421e+00 |\n",
       "| HQ(n) | -9.6111990420 | -9.571157e+00 | -9.523808e+00 | -9.489605e+00 | -9.458096e+00 | -9.420714e+00 | -9.384256e+00 | -9.337757e+00 | -9.288185e+00 | -9.260317e+00 |\n",
       "| SC(n) | -9.5606988192 | -9.486990e+00 | -9.405974e+00 | -9.338104e+00 | -9.272929e+00 | -9.201879e+00 | -9.131755e+00 | -9.051589e+00 | -8.968350e+00 | -8.906816e+00 |\n",
       "| FPE(n) |  0.0000647348 |  6.586933e-05 |  6.751593e-05 |  6.830093e-05 |  6.891038e-05 |  6.993645e-05 |  7.091408e-05 |  7.263327e-05 |  7.462573e-05 |  7.502964e-05 |\n",
       "\n",
       "\n",
       "\n",
       "\n"
      ],
      "text/plain": [
       "$selection\n",
       "AIC(n)  HQ(n)  SC(n) FPE(n) \n",
       "     1      1      1      1 \n",
       "\n",
       "$criteria\n",
       "                   1             2             3             4             5\n",
       "AIC(n) -9.6452138813 -9.627848e+00 -9.603176e+00 -9.591649e+00 -9.582817e+00\n",
       "HQ(n)  -9.6111990420 -9.571157e+00 -9.523808e+00 -9.489605e+00 -9.458096e+00\n",
       "SC(n)  -9.5606988192 -9.486990e+00 -9.405974e+00 -9.338104e+00 -9.272929e+00\n",
       "FPE(n)  0.0000647348  6.586933e-05  6.751593e-05  6.830093e-05  6.891038e-05\n",
       "                   6             7             8             9            10\n",
       "AIC(n) -9.568111e+00 -9.554330e+00 -9.530508e+00 -9.503613e+00 -9.498421e+00\n",
       "HQ(n)  -9.420714e+00 -9.384256e+00 -9.337757e+00 -9.288185e+00 -9.260317e+00\n",
       "SC(n)  -9.201879e+00 -9.131755e+00 -9.051589e+00 -8.968350e+00 -8.906816e+00\n",
       "FPE(n)  6.993645e-05  7.091408e-05  7.263327e-05  7.462573e-05  7.502964e-05\n"
      ]
     },
     "metadata": {},
     "output_type": "display_data"
    }
   ],
   "source": [
    "lag_bitcoin"
   ]
  },
  {
   "cell_type": "code",
   "execution_count": 214,
   "metadata": {},
   "outputs": [
    {
     "data": {
      "image/png": "[encoded data removed]",
      "text/plain": [
       "plot without title"
      ]
     },
     "metadata": {
      "image/png": {
       "height": 420,
       "width": 420
      }
     },
     "output_type": "display_data"
    }
   ],
   "source": [
    "plot(data_ira$date, data_ira$google_trends_change, type = 'l')"
   ]
  },
  {
   "cell_type": "code",
   "execution_count": 215,
   "metadata": {},
   "outputs": [
    {
     "name": "stderr",
     "output_type": "stream",
     "text": [
      "1 rows dropped from the data frame because of missing values.\n",
      "\n"
     ]
    }
   ],
   "source": [
    "data_ira <- DropNA(data_ira, Var='lag_var')"
   ]
  },
  {
   "cell_type": "code",
   "execution_count": 270,
   "metadata": {},
   "outputs": [],
   "source": [
    "# Vector Auto-Regression model\n",
    "VAR_mod <- VAR(data_ira[, c('bitcoin_change', 'google_trends_change')],type = 'const', lag.max = 1, ic = 'SC')"
   ]
  },
  {
   "cell_type": "code",
   "execution_count": 271,
   "metadata": {},
   "outputs": [
    {
     "data": {
      "text/plain": [
       "\n",
       "VAR Estimation Results:\n",
       "======================= \n",
       "\n",
       "Estimated coefficients for equation bitcoin_change: \n",
       "=================================================== \n",
       "Call:\n",
       "bitcoin_change = bitcoin_change.l1 + google_trends_change.l1 + const \n",
       "\n",
       "      bitcoin_change.l1 google_trends_change.l1                   const \n",
       "           -0.044171621             0.025010809             0.006426156 \n",
       "\n",
       "\n",
       "Estimated coefficients for equation google_trends_change: \n",
       "========================================================= \n",
       "Call:\n",
       "google_trends_change = bitcoin_change.l1 + google_trends_change.l1 + const \n",
       "\n",
       "      bitcoin_change.l1 google_trends_change.l1                   const \n",
       "            -0.11456776             -0.08362170              0.01402826 \n",
       "\n"
      ]
     },
     "metadata": {},
     "output_type": "display_data"
    }
   ],
   "source": [
    "VAR_mod"
   ]
  },
  {
   "cell_type": "code",
   "execution_count": 272,
   "metadata": {},
   "outputs": [],
   "source": [
    "# granger causality\n",
    "gc<-causality(VAR_mod,cause = colnames(VAR_mod$datamat[2]))"
   ]
  },
  {
   "cell_type": "code",
   "execution_count": 273,
   "metadata": {},
   "outputs": [
    {
     "data": {
      "text/plain": [
       "$Granger\n",
       "\n",
       "\tGranger causality H0: google_trends_change do not Granger-cause\n",
       "\tbitcoin_change\n",
       "\n",
       "data:  VAR object VAR_mod\n",
       "F-Test = 7.305, df1 = 1, df2 = 510, p-value = 0.007106\n",
       "\n",
       "\n",
       "$Instant\n",
       "\n",
       "\tH0: No instantaneous causality between: google_trends_change and\n",
       "\tbitcoin_change\n",
       "\n",
       "data:  VAR object VAR_mod\n",
       "Chi-squared = 2.4035, df = 1, p-value = 0.1211\n",
       "\n"
      ]
     },
     "metadata": {},
     "output_type": "display_data"
    }
   ],
   "source": [
    "gc"
   ]
  },
  {
   "cell_type": "code",
   "execution_count": 251,
   "metadata": {},
   "outputs": [
    {
     "data": {
      "image/png": "[encoded data removed]",
      "text/plain": [
       "plot without title"
      ]
     },
     "metadata": {
      "image/png": {
       "height": 420,
       "width": 420
      }
     },
     "output_type": "display_data"
    },
    {
     "data": {
      "image/png": "[encoded data removed]",
      "text/plain": [
       "plot without title"
      ]
     },
     "metadata": {
      "image/png": {
       "height": 420,
       "width": 420
      }
     },
     "output_type": "display_data"
    }
   ],
   "source": [
    "# impulse response function\n",
    "plot(irf(VAR_mod, n.ahead=4))"
   ]
  },
  {
   "cell_type": "code",
   "execution_count": 274,
   "metadata": {},
   "outputs": [],
   "source": [
    "# Variance decomposition of forecast errors at 1,2,3,4 weeks horizon\n",
    "fevd1<-fevd(VAR_mod,n.ahead = 4)"
   ]
  },
  {
   "cell_type": "code",
   "execution_count": 275,
   "metadata": {},
   "outputs": [
    {
     "data": {
      "text/plain": [
       "$bitcoin_change\n",
       "     bitcoin_change google_trends_change\n",
       "[1,]      1.0000000           0.00000000\n",
       "[2,]      0.9721090           0.02789100\n",
       "[3,]      0.9716667           0.02833333\n",
       "[4,]      0.9716641           0.02833591\n",
       "\n",
       "$google_trends_change\n",
       "     bitcoin_change google_trends_change\n",
       "[1,]    0.009403559            0.9905964\n",
       "[2,]    0.009950423            0.9900496\n",
       "[3,]    0.009956652            0.9900433\n",
       "[4,]    0.009956677            0.9900433\n"
      ]
     },
     "metadata": {},
     "output_type": "display_data"
    }
   ],
   "source": [
    "fevd1"
   ]
  },
  {
   "cell_type": "code",
   "execution_count": 281,
   "metadata": {},
   "outputs": [],
   "source": [
    "fevd2<-fevd1$bitcoin_change"
   ]
  },
  {
   "cell_type": "code",
   "execution_count": 282,
   "metadata": {},
   "outputs": [],
   "source": [
    "fevdtab<-round(100*fevd2[c(1,2,3,4),],2)"
   ]
  },
  {
   "cell_type": "code",
   "execution_count": 283,
   "metadata": {},
   "outputs": [],
   "source": [
    "rownames(fevdtab)<-c(1,2,3,4)"
   ]
  },
  {
   "cell_type": "code",
   "execution_count": 284,
   "metadata": {},
   "outputs": [
    {
     "name": "stdout",
     "output_type": "stream",
     "text": [
      "  bitcoin_change google_trends_change\n",
      "1         100.00                 0.00\n",
      "2          97.21                 2.79\n",
      "3          97.17                 2.83\n",
      "4          97.17                 2.83\n"
     ]
    }
   ],
   "source": [
    "print(fevdtab)"
   ]
  },
  {
   "cell_type": "code",
   "execution_count": 285,
   "metadata": {},
   "outputs": [
    {
     "data": {
      "image/png": "[encoded data removed]",
      "text/plain": [
       "Plot with title \"FEVD for google_trends_change\""
      ]
     },
     "metadata": {
      "image/png": {
       "height": 420,
       "width": 420
      }
     },
     "output_type": "display_data"
    }
   ],
   "source": [
    "plot(fevd1)"
   ]
  },
  {
   "cell_type": "code",
   "execution_count": 286,
   "metadata": {},
   "outputs": [
    {
     "ename": "ERROR",
     "evalue": "Error in as.matrix(y): object 'macv' not found\n",
     "output_type": "error",
     "traceback": [
      "Error in as.matrix(y): object 'macv' not found\nTraceback:\n",
      "1. VAR(macv[, c(\"LN_GDP_D\", \"LN_CPI_D\", \"LN_EQ_D\", \"LN_FX_D\", \"IR_S_D\", \n .     \"IR_L_D\")], type = \"const\", lag.max = 6, ic = \"AIC\")",
      "2. as.matrix(y)"
     ]
    }
   ],
   "source": [
    "VAR_model <- VAR(macv[, c('LN_GDP_D','LN_CPI_D', 'LN_EQ_D', 'LN_FX_D', 'IR_S_D', 'IR_L_D')],type = 'const', lag.max = 6, ic = 'AIC')"
   ]
  },
  {
   "cell_type": "code",
   "execution_count": 225,
   "metadata": {},
   "outputs": [
    {
     "data": {
      "image/png": "[encoded data removed]",
      "text/plain": [
       "Plot with title \"PACF Residuals\""
      ]
     },
     "metadata": {
      "image/png": {
       "height": 420,
       "width": 420
      }
     },
     "output_type": "display_data"
    },
    {
     "data": {
      "image/png": "[encoded data removed]",
      "text/plain": [
       "Plot with title \"PACF Residuals\""
      ]
     },
     "metadata": {
      "image/png": {
       "height": 420,
       "width": 420
      }
     },
     "output_type": "display_data"
    },
    {
     "data": {
      "image/png": "[encoded data removed]",
      "text/plain": [
       "Plot with title \"PACF Residuals\""
      ]
     },
     "metadata": {
      "image/png": {
       "height": 420,
       "width": 420
      }
     },
     "output_type": "display_data"
    },
    {
     "data": {
      "image/png": "[encoded data removed]",
      "text/plain": [
       "Plot with title \"PACF Residuals\""
      ]
     },
     "metadata": {
      "image/png": {
       "height": 420,
       "width": 420
      }
     },
     "output_type": "display_data"
    },
    {
     "data": {
      "image/png": "[encoded data removed]",
      "text/plain": [
       "Plot with title \"PACF Residuals\""
      ]
     },
     "metadata": {
      "image/png": {
       "height": 420,
       "width": 420
      }
     },
     "output_type": "display_data"
    },
    {
     "data": {
      "image/png": "[encoded data removed]",
      "text/plain": [
       "Plot with title \"PACF Residuals\""
      ]
     },
     "metadata": {
      "image/png": {
       "height": 420,
       "width": 420
      }
     },
     "output_type": "display_data"
    }
   ],
   "source": [
    "plot(VAR_model)"
   ]
  },
  {
   "cell_type": "code",
   "execution_count": 212,
   "metadata": {},
   "outputs": [
    {
     "data": {
      "text/plain": [
       "\n",
       "VAR Estimation Results:\n",
       "========================= \n",
       "Endogenous variables: LN_GDP_D, LN_CPI_D, LN_EQ_D, LN_FX_D, IR_S_D, IR_L_D \n",
       "Deterministic variables: const \n",
       "Sample size: 47 \n",
       "Log Likelihood: 1454.121 \n",
       "Roots of the characteristic polynomial:\n",
       "1.057 1.057 1.013 0.9977 0.9977 0.9965 0.9965 0.9753 0.9753 0.9707 0.9707 0.9693 0.9693 0.9641 0.9641 0.9641 0.9596 0.9596 0.9507 0.9507 0.945 0.945 0.9368 0.9368 0.922 0.922 0.9049 0.9047 0.9047 0.8563 0.8563 0.8208 0.8208 0.647 0.647 0.5652\n",
       "Call:\n",
       "VAR(y = macv[, c(\"LN_GDP_D\", \"LN_CPI_D\", \"LN_EQ_D\", \"LN_FX_D\", \n",
       "    \"IR_S_D\", \"IR_L_D\")], type = \"const\", lag.max = 6, ic = \"AIC\")\n",
       "\n",
       "\n",
       "Estimation results for equation LN_GDP_D: \n",
       "========================================= \n",
       "LN_GDP_D = LN_GDP_D.l1 + LN_CPI_D.l1 + LN_EQ_D.l1 + LN_FX_D.l1 + IR_S_D.l1 + IR_L_D.l1 + LN_GDP_D.l2 + LN_CPI_D.l2 + LN_EQ_D.l2 + LN_FX_D.l2 + IR_S_D.l2 + IR_L_D.l2 + LN_GDP_D.l3 + LN_CPI_D.l3 + LN_EQ_D.l3 + LN_FX_D.l3 + IR_S_D.l3 + IR_L_D.l3 + LN_GDP_D.l4 + LN_CPI_D.l4 + LN_EQ_D.l4 + LN_FX_D.l4 + IR_S_D.l4 + IR_L_D.l4 + LN_GDP_D.l5 + LN_CPI_D.l5 + LN_EQ_D.l5 + LN_FX_D.l5 + IR_S_D.l5 + IR_L_D.l5 + LN_GDP_D.l6 + LN_CPI_D.l6 + LN_EQ_D.l6 + LN_FX_D.l6 + IR_S_D.l6 + IR_L_D.l6 + const \n",
       "\n",
       "              Estimate Std. Error t value Pr(>|t|)  \n",
       "LN_GDP_D.l1  0.3515655  0.3237658   1.086   0.3030  \n",
       "LN_CPI_D.l1 -0.3088293  0.4560165  -0.677   0.5136  \n",
       "LN_EQ_D.l1   0.0163370  0.0251710   0.649   0.5309  \n",
       "LN_FX_D.l1  -0.0428360  0.0586050  -0.731   0.4816  \n",
       "IR_S_D.l1   -3.4499022  3.6522836  -0.945   0.3671  \n",
       "IR_L_D.l1   -4.2104001  2.2260027  -1.891   0.0879 .\n",
       "LN_GDP_D.l2  1.1714463  0.3965637   2.954   0.0144 *\n",
       "LN_CPI_D.l2 -0.8122272  0.5055119  -1.607   0.1392  \n",
       "LN_EQ_D.l2   0.0441661  0.0182693   2.418   0.0362 *\n",
       "LN_FX_D.l2  -0.0765786  0.0792855  -0.966   0.3569  \n",
       "IR_S_D.l2   -4.2849164  4.1245774  -1.039   0.3233  \n",
       "IR_L_D.l2    0.3381001  1.8435000   0.183   0.8581  \n",
       "LN_GDP_D.l3 -0.9018626  0.3640350  -2.477   0.0327 *\n",
       "LN_CPI_D.l3 -0.5398161  0.4918767  -1.097   0.2982  \n",
       "LN_EQ_D.l3   0.0216273  0.0232234   0.931   0.3737  \n",
       "LN_FX_D.l3  -0.0725711  0.0739676  -0.981   0.3497  \n",
       "IR_S_D.l3    3.1976504  2.3816391   1.343   0.2091  \n",
       "IR_L_D.l3   -4.5395659  2.7686868  -1.640   0.1321  \n",
       "LN_GDP_D.l4 -0.2689954  0.4401627  -0.611   0.5548  \n",
       "LN_CPI_D.l4  1.2481452  0.4381140   2.849   0.0173 *\n",
       "LN_EQ_D.l4   0.0019463  0.0316312   0.062   0.9521  \n",
       "LN_FX_D.l4   0.0733546  0.0811504   0.904   0.3873  \n",
       "IR_S_D.l4    1.8919666  2.2223910   0.851   0.4145  \n",
       "IR_L_D.l4   -3.8913423  3.5210429  -1.105   0.2950  \n",
       "LN_GDP_D.l5  0.5041862  0.3665933   1.375   0.1991  \n",
       "LN_CPI_D.l5  0.1579209  0.6753584   0.234   0.8198  \n",
       "LN_EQ_D.l5   0.0194076  0.0361563   0.537   0.6032  \n",
       "LN_FX_D.l5  -0.0281140  0.0472162  -0.595   0.5648  \n",
       "IR_S_D.l5   -4.9926232  2.7052732  -1.846   0.0947 .\n",
       "IR_L_D.l5    2.8974614  2.2872439   1.267   0.2339  \n",
       "LN_GDP_D.l6  0.6137984  0.5010503   1.225   0.2486  \n",
       "LN_CPI_D.l6 -0.7672174  0.5691041  -1.348   0.2074  \n",
       "LN_EQ_D.l6   0.0144931  0.0314919   0.460   0.6552  \n",
       "LN_FX_D.l6   0.0941873  0.0452544   2.081   0.0641 .\n",
       "IR_S_D.l6   -2.5728775  2.6429724  -0.973   0.3533  \n",
       "IR_L_D.l6    3.1484421  2.8172423   1.118   0.2899  \n",
       "const        0.0009309  0.0097414   0.096   0.9258  \n",
       "---\n",
       "Signif. codes:  0 '***' 0.001 '**' 0.01 '*' 0.05 '.' 0.1 ' ' 1\n",
       "\n",
       "\n",
       "Residual standard error: 0.004249 on 10 degrees of freedom\n",
       "Multiple R-Squared: 0.9262,\tAdjusted R-squared: 0.6606 \n",
       "F-statistic: 3.487 on 36 and 10 DF,  p-value: 0.01993 \n",
       "\n",
       "\n",
       "Estimation results for equation LN_CPI_D: \n",
       "========================================= \n",
       "LN_CPI_D = LN_GDP_D.l1 + LN_CPI_D.l1 + LN_EQ_D.l1 + LN_FX_D.l1 + IR_S_D.l1 + IR_L_D.l1 + LN_GDP_D.l2 + LN_CPI_D.l2 + LN_EQ_D.l2 + LN_FX_D.l2 + IR_S_D.l2 + IR_L_D.l2 + LN_GDP_D.l3 + LN_CPI_D.l3 + LN_EQ_D.l3 + LN_FX_D.l3 + IR_S_D.l3 + IR_L_D.l3 + LN_GDP_D.l4 + LN_CPI_D.l4 + LN_EQ_D.l4 + LN_FX_D.l4 + IR_S_D.l4 + IR_L_D.l4 + LN_GDP_D.l5 + LN_CPI_D.l5 + LN_EQ_D.l5 + LN_FX_D.l5 + IR_S_D.l5 + IR_L_D.l5 + LN_GDP_D.l6 + LN_CPI_D.l6 + LN_EQ_D.l6 + LN_FX_D.l6 + IR_S_D.l6 + IR_L_D.l6 + const \n",
       "\n",
       "             Estimate Std. Error t value Pr(>|t|)  \n",
       "LN_GDP_D.l1 -0.206185   0.250049  -0.825   0.4288  \n",
       "LN_CPI_D.l1  0.536417   0.352189   1.523   0.1587  \n",
       "LN_EQ_D.l1  -0.017332   0.019440  -0.892   0.3936  \n",
       "LN_FX_D.l1   0.029381   0.045262   0.649   0.5309  \n",
       "IR_S_D.l1    4.891979   2.820717   1.734   0.1135  \n",
       "IR_L_D.l1   -1.012472   1.719177  -0.589   0.5690  \n",
       "LN_GDP_D.l2  0.070858   0.306272   0.231   0.8217  \n",
       "LN_CPI_D.l2  0.150605   0.390415   0.386   0.7078  \n",
       "LN_EQ_D.l2   0.003360   0.014110   0.238   0.8166  \n",
       "LN_FX_D.l2   0.019957   0.061233   0.326   0.7512  \n",
       "IR_S_D.l2   -3.342542   3.185477  -1.049   0.3187  \n",
       "IR_L_D.l2   -2.855945   1.423765  -2.006   0.0727 .\n",
       "LN_GDP_D.l3  0.268100   0.281150   0.954   0.3628  \n",
       "LN_CPI_D.l3 -0.177682   0.379884  -0.468   0.6500  \n",
       "LN_EQ_D.l3   0.015319   0.017936   0.854   0.4130  \n",
       "LN_FX_D.l3  -0.034350   0.057126  -0.601   0.5610  \n",
       "IR_S_D.l3   -1.995861   1.839378  -1.085   0.3034  \n",
       "IR_L_D.l3    4.539861   2.138301   2.123   0.0597 .\n",
       "LN_GDP_D.l4 -0.020061   0.339945  -0.059   0.9541  \n",
       "LN_CPI_D.l4 -0.708103   0.338362  -2.093   0.0628 .\n",
       "LN_EQ_D.l4  -0.021541   0.024429  -0.882   0.3986  \n",
       "LN_FX_D.l4   0.046337   0.062674   0.739   0.4767  \n",
       "IR_S_D.l4    3.409319   1.716388   1.986   0.0751 .\n",
       "IR_L_D.l4   -0.670937   2.719358  -0.247   0.8101  \n",
       "LN_GDP_D.l5 -0.210711   0.283126  -0.744   0.4739  \n",
       "LN_CPI_D.l5  1.071466   0.521590   2.054   0.0670 .\n",
       "LN_EQ_D.l5  -0.017064   0.027924  -0.611   0.5548  \n",
       "LN_FX_D.l5   0.011508   0.036466   0.316   0.7588  \n",
       "IR_S_D.l5    0.052556   2.089326   0.025   0.9804  \n",
       "IR_L_D.l5   -2.731999   1.766475  -1.547   0.1530  \n",
       "LN_GDP_D.l6  0.047150   0.386969   0.122   0.9054  \n",
       "LN_CPI_D.l6 -0.509543   0.439528  -1.159   0.2733  \n",
       "LN_EQ_D.l6   0.037324   0.024322   1.535   0.1559  \n",
       "LN_FX_D.l6  -0.018776   0.034951  -0.537   0.6029  \n",
       "IR_S_D.l6   -2.367533   2.041210  -1.160   0.2730  \n",
       "IR_L_D.l6    2.954701   2.175801   1.358   0.2043  \n",
       "const        0.004883   0.007523   0.649   0.5309  \n",
       "---\n",
       "Signif. codes:  0 '***' 0.001 '**' 0.01 '*' 0.05 '.' 0.1 ' ' 1\n",
       "\n",
       "\n",
       "Residual standard error: 0.003282 on 10 degrees of freedom\n",
       "Multiple R-Squared: 0.8189,\tAdjusted R-squared: 0.1668 \n",
       "F-statistic: 1.256 on 36 and 10 DF,  p-value: 0.3672 \n",
       "\n",
       "\n",
       "Estimation results for equation LN_EQ_D: \n",
       "======================================== \n",
       "LN_EQ_D = LN_GDP_D.l1 + LN_CPI_D.l1 + LN_EQ_D.l1 + LN_FX_D.l1 + IR_S_D.l1 + IR_L_D.l1 + LN_GDP_D.l2 + LN_CPI_D.l2 + LN_EQ_D.l2 + LN_FX_D.l2 + IR_S_D.l2 + IR_L_D.l2 + LN_GDP_D.l3 + LN_CPI_D.l3 + LN_EQ_D.l3 + LN_FX_D.l3 + IR_S_D.l3 + IR_L_D.l3 + LN_GDP_D.l4 + LN_CPI_D.l4 + LN_EQ_D.l4 + LN_FX_D.l4 + IR_S_D.l4 + IR_L_D.l4 + LN_GDP_D.l5 + LN_CPI_D.l5 + LN_EQ_D.l5 + LN_FX_D.l5 + IR_S_D.l5 + IR_L_D.l5 + LN_GDP_D.l6 + LN_CPI_D.l6 + LN_EQ_D.l6 + LN_FX_D.l6 + IR_S_D.l6 + IR_L_D.l6 + const \n",
       "\n",
       "             Estimate Std. Error t value Pr(>|t|)  \n",
       "LN_GDP_D.l1   5.53065    4.77921   1.157   0.2741  \n",
       "LN_CPI_D.l1  -9.29790    6.73141  -1.381   0.1973  \n",
       "LN_EQ_D.l1   -0.02861    0.37156  -0.077   0.9401  \n",
       "LN_FX_D.l1   -1.86686    0.86509  -2.158   0.0563 .\n",
       "IR_S_D.l1   -54.38322   53.91258  -1.009   0.3369  \n",
       "IR_L_D.l1    12.35668   32.85877   0.376   0.7147  \n",
       "LN_GDP_D.l2 -10.29055    5.85381  -1.758   0.1093  \n",
       "LN_CPI_D.l2  -4.61436    7.46203  -0.618   0.5502  \n",
       "LN_EQ_D.l2    0.46117    0.26968   1.710   0.1180  \n",
       "LN_FX_D.l2   -1.46119    1.17036  -1.248   0.2403  \n",
       "IR_S_D.l2   -37.28172   60.88426  -0.612   0.5540  \n",
       "IR_L_D.l2     8.53390   27.21252   0.314   0.7603  \n",
       "LN_GDP_D.l3  -3.36600    5.37364  -0.626   0.5451  \n",
       "LN_CPI_D.l3   8.00724    7.26076   1.103   0.2959  \n",
       "LN_EQ_D.l3   -0.31325    0.34281  -0.914   0.3823  \n",
       "LN_FX_D.l3   -0.26910    1.09186  -0.246   0.8103  \n",
       "IR_S_D.l3    16.28289   35.15617   0.463   0.6532  \n",
       "IR_L_D.l3   -34.33547   40.86951  -0.840   0.4205  \n",
       "LN_GDP_D.l4   7.76024    6.49739   1.194   0.2599  \n",
       "LN_CPI_D.l4  -3.64197    6.46715  -0.563   0.5857  \n",
       "LN_EQ_D.l4    0.19970    0.46692   0.428   0.6779  \n",
       "LN_FX_D.l4   -1.22417    1.19789  -1.022   0.3309  \n",
       "IR_S_D.l4   -33.96595   32.80546  -1.035   0.3249  \n",
       "IR_L_D.l4    -5.55517   51.97529  -0.107   0.9170  \n",
       "LN_GDP_D.l5  -8.97143    5.41141  -1.658   0.1283  \n",
       "LN_CPI_D.l5  -7.60134    9.96919  -0.762   0.4634  \n",
       "LN_EQ_D.l5    0.72148    0.53371   1.352   0.2062  \n",
       "LN_FX_D.l5   -0.11656    0.69697  -0.167   0.8705  \n",
       "IR_S_D.l5    38.53160   39.93344   0.965   0.3574  \n",
       "IR_L_D.l5   -57.15837   33.76277  -1.693   0.1213  \n",
       "LN_GDP_D.l6  -7.06772    7.39617  -0.956   0.3618  \n",
       "LN_CPI_D.l6  -3.55298    8.40073  -0.423   0.6813  \n",
       "LN_EQ_D.l6    0.25362    0.46486   0.546   0.5973  \n",
       "LN_FX_D.l6   -0.58170    0.66802  -0.871   0.4043  \n",
       "IR_S_D.l6    36.71738   39.01380   0.941   0.3688  \n",
       "IR_L_D.l6   -64.60293   41.58625  -1.553   0.1514  \n",
       "const         0.13522    0.14380   0.940   0.3692  \n",
       "---\n",
       "Signif. codes:  0 '***' 0.001 '**' 0.01 '*' 0.05 '.' 0.1 ' ' 1\n",
       "\n",
       "\n",
       "Residual standard error: 0.06273 on 10 degrees of freedom\n",
       "Multiple R-Squared: 0.8351,\tAdjusted R-squared: 0.2417 \n",
       "F-statistic: 1.407 on 36 and 10 DF,  p-value: 0.2914 \n",
       "\n",
       "\n",
       "Estimation results for equation LN_FX_D: \n",
       "======================================== \n",
       "LN_FX_D = LN_GDP_D.l1 + LN_CPI_D.l1 + LN_EQ_D.l1 + LN_FX_D.l1 + IR_S_D.l1 + IR_L_D.l1 + LN_GDP_D.l2 + LN_CPI_D.l2 + LN_EQ_D.l2 + LN_FX_D.l2 + IR_S_D.l2 + IR_L_D.l2 + LN_GDP_D.l3 + LN_CPI_D.l3 + LN_EQ_D.l3 + LN_FX_D.l3 + IR_S_D.l3 + IR_L_D.l3 + LN_GDP_D.l4 + LN_CPI_D.l4 + LN_EQ_D.l4 + LN_FX_D.l4 + IR_S_D.l4 + IR_L_D.l4 + LN_GDP_D.l5 + LN_CPI_D.l5 + LN_EQ_D.l5 + LN_FX_D.l5 + IR_S_D.l5 + IR_L_D.l5 + LN_GDP_D.l6 + LN_CPI_D.l6 + LN_EQ_D.l6 + LN_FX_D.l6 + IR_S_D.l6 + IR_L_D.l6 + const \n",
       "\n",
       "             Estimate Std. Error t value Pr(>|t|)  \n",
       "LN_GDP_D.l1  -3.38189    2.51206  -1.346   0.2079  \n",
       "LN_CPI_D.l1  -1.34134    3.53818  -0.379   0.7125  \n",
       "LN_EQ_D.l1   -0.06527    0.19530  -0.334   0.7451  \n",
       "LN_FX_D.l1    0.12853    0.45471   0.283   0.7832  \n",
       "IR_S_D.l1    13.10423   28.33768   0.462   0.6537  \n",
       "IR_L_D.l1    16.32867   17.27132   0.945   0.3667  \n",
       "LN_GDP_D.l2  -5.66975    3.07690  -1.843   0.0952 .\n",
       "LN_CPI_D.l2   2.95621    3.92221   0.754   0.4684  \n",
       "LN_EQ_D.l2   -0.14131    0.14175  -0.997   0.3423  \n",
       "LN_FX_D.l2   -0.22647    0.61517  -0.368   0.7204  \n",
       "IR_S_D.l2    42.48063   32.00216   1.327   0.2139  \n",
       "IR_L_D.l2    12.01052   14.30352   0.840   0.4207  \n",
       "LN_GDP_D.l3   2.33482    2.82451   0.827   0.4277  \n",
       "LN_CPI_D.l3   4.66805    3.81642   1.223   0.2493  \n",
       "LN_EQ_D.l3   -0.22057    0.18019  -1.224   0.2490  \n",
       "LN_FX_D.l3    1.03199    0.57391   1.798   0.1024  \n",
       "IR_S_D.l3    11.04065   18.47889   0.597   0.5635  \n",
       "IR_L_D.l3    13.59523   21.48195   0.633   0.5410  \n",
       "LN_GDP_D.l4  -0.12788    3.41518  -0.037   0.9709  \n",
       "LN_CPI_D.l4  -4.74789    3.39928  -1.397   0.1927  \n",
       "LN_EQ_D.l4   -0.19872    0.24542  -0.810   0.4369  \n",
       "LN_FX_D.l4   -0.49455    0.62964  -0.785   0.4504  \n",
       "IR_S_D.l4     6.31204   17.24330   0.366   0.7219  \n",
       "IR_L_D.l4    15.53370   27.31940   0.569   0.5822  \n",
       "LN_GDP_D.l5  -3.84628    2.84436  -1.352   0.2061  \n",
       "LN_CPI_D.l5 -10.79530    5.24003  -2.060   0.0664 .\n",
       "LN_EQ_D.l5   -0.11728    0.28053  -0.418   0.6847  \n",
       "LN_FX_D.l5    0.42555    0.36635   1.162   0.2724  \n",
       "IR_S_D.l5    39.01501   20.98993   1.859   0.0927 .\n",
       "IR_L_D.l5    -1.59201   17.74648  -0.090   0.9303  \n",
       "LN_GDP_D.l6  -6.47485    3.88760  -1.666   0.1268  \n",
       "LN_CPI_D.l6   3.29065    4.41562   0.745   0.4733  \n",
       "LN_EQ_D.l6   -0.21040    0.24434  -0.861   0.4094  \n",
       "LN_FX_D.l6   -0.06073    0.35112  -0.173   0.8661  \n",
       "IR_S_D.l6    43.14921   20.50654   2.104   0.0616 .\n",
       "IR_L_D.l6   -34.94794   21.85869  -1.599   0.1409  \n",
       "const         0.13812    0.07558   1.827   0.0976 .\n",
       "---\n",
       "Signif. codes:  0 '***' 0.001 '**' 0.01 '*' 0.05 '.' 0.1 ' ' 1\n",
       "\n",
       "\n",
       "Residual standard error: 0.03297 on 10 degrees of freedom\n",
       "Multiple R-Squared: 0.8868,\tAdjusted R-squared: 0.4791 \n",
       "F-statistic: 2.175 on 36 and 10 DF,  p-value: 0.09529 \n",
       "\n",
       "\n",
       "Estimation results for equation IR_S_D: \n",
       "======================================= \n",
       "IR_S_D = LN_GDP_D.l1 + LN_CPI_D.l1 + LN_EQ_D.l1 + LN_FX_D.l1 + IR_S_D.l1 + IR_L_D.l1 + LN_GDP_D.l2 + LN_CPI_D.l2 + LN_EQ_D.l2 + LN_FX_D.l2 + IR_S_D.l2 + IR_L_D.l2 + LN_GDP_D.l3 + LN_CPI_D.l3 + LN_EQ_D.l3 + LN_FX_D.l3 + IR_S_D.l3 + IR_L_D.l3 + LN_GDP_D.l4 + LN_CPI_D.l4 + LN_EQ_D.l4 + LN_FX_D.l4 + IR_S_D.l4 + IR_L_D.l4 + LN_GDP_D.l5 + LN_CPI_D.l5 + LN_EQ_D.l5 + LN_FX_D.l5 + IR_S_D.l5 + IR_L_D.l5 + LN_GDP_D.l6 + LN_CPI_D.l6 + LN_EQ_D.l6 + LN_FX_D.l6 + IR_S_D.l6 + IR_L_D.l6 + const \n",
       "\n",
       "              Estimate Std. Error t value Pr(>|t|)   \n",
       "LN_GDP_D.l1  0.0726795  0.0386680   1.880  0.08959 . \n",
       "LN_CPI_D.l1 -0.0005384  0.0544630  -0.010  0.99231   \n",
       "LN_EQ_D.l1  -0.0001344  0.0030062  -0.045  0.96522   \n",
       "LN_FX_D.l1  -0.0160634  0.0069993  -2.295  0.04463 * \n",
       "IR_S_D.l1   -0.7564550  0.4362000  -1.734  0.11354   \n",
       "IR_L_D.l1    0.1412791  0.2658562   0.531  0.60674   \n",
       "LN_GDP_D.l2  0.0849400  0.0473625   1.793  0.10315   \n",
       "LN_CPI_D.l2 -0.1430497  0.0603744  -2.369  0.03932 * \n",
       "LN_EQ_D.l2   0.0070916  0.0021819   3.250  0.00872 **\n",
       "LN_FX_D.l2  -0.0230721  0.0094692  -2.437  0.03506 * \n",
       "IR_S_D.l2   -1.5590119  0.4926071  -3.165  0.01008 * \n",
       "IR_L_D.l2   -0.6981326  0.2201731  -3.171  0.00997 **\n",
       "LN_GDP_D.l3 -0.0731720  0.0434775  -1.683  0.12329   \n",
       "LN_CPI_D.l3 -0.0106656  0.0587459  -0.182  0.85956   \n",
       "LN_EQ_D.l3   0.0096025  0.0027736   3.462  0.00610 **\n",
       "LN_FX_D.l3  -0.0311034  0.0088341  -3.521  0.00553 **\n",
       "IR_S_D.l3   -0.5867627  0.2844442  -2.063  0.06607 . \n",
       "IR_L_D.l3   -0.5040601  0.3306702  -1.524  0.15840   \n",
       "LN_GDP_D.l4  0.0159089  0.0525696   0.303  0.76838   \n",
       "LN_CPI_D.l4 -0.0229404  0.0523249  -0.438  0.67040   \n",
       "LN_EQ_D.l4   0.0110164  0.0037778   2.916  0.01540 * \n",
       "LN_FX_D.l4  -0.0137948  0.0096920  -1.423  0.18509   \n",
       "IR_S_D.l4   -0.4516523  0.2654249  -1.702  0.11966   \n",
       "IR_L_D.l4   -0.8043996  0.4205257  -1.913  0.08481 . \n",
       "LN_GDP_D.l5  0.0366232  0.0437830   0.836  0.42243   \n",
       "LN_CPI_D.l5  0.2128424  0.0806595   2.639  0.02479 * \n",
       "LN_EQ_D.l5   0.0081263  0.0043182   1.882  0.08925 . \n",
       "LN_FX_D.l5  -0.0163226  0.0056391  -2.895  0.01598 * \n",
       "IR_S_D.l5   -0.8507086  0.3230965  -2.633  0.02503 * \n",
       "IR_L_D.l5   -0.1618156  0.2731704  -0.592  0.56676   \n",
       "LN_GDP_D.l6  0.0863659  0.0598415   1.443  0.17954   \n",
       "LN_CPI_D.l6 -0.0900771  0.0679693  -1.325  0.21456   \n",
       "LN_EQ_D.l6   0.0098165  0.0037611   2.610  0.02604 * \n",
       "LN_FX_D.l6  -0.0019940  0.0054048  -0.369  0.71988   \n",
       "IR_S_D.l6   -0.4096491  0.3156558  -1.298  0.22350   \n",
       "IR_L_D.l6    0.1182214  0.3364693   0.351  0.73261   \n",
       "const       -0.0026495  0.0011634  -2.277  0.04600 * \n",
       "---\n",
       "Signif. codes:  0 '***' 0.001 '**' 0.01 '*' 0.05 '.' 0.1 ' ' 1\n",
       "\n",
       "\n",
       "Residual standard error: 0.0005075 on 10 degrees of freedom\n",
       "Multiple R-Squared: 0.9595,\tAdjusted R-squared: 0.8137 \n",
       "F-statistic: 6.582 on 36 and 10 DF,  p-value: 0.001607 \n",
       "\n",
       "\n",
       "Estimation results for equation IR_L_D: \n",
       "======================================= \n",
       "IR_L_D = LN_GDP_D.l1 + LN_CPI_D.l1 + LN_EQ_D.l1 + LN_FX_D.l1 + IR_S_D.l1 + IR_L_D.l1 + LN_GDP_D.l2 + LN_CPI_D.l2 + LN_EQ_D.l2 + LN_FX_D.l2 + IR_S_D.l2 + IR_L_D.l2 + LN_GDP_D.l3 + LN_CPI_D.l3 + LN_EQ_D.l3 + LN_FX_D.l3 + IR_S_D.l3 + IR_L_D.l3 + LN_GDP_D.l4 + LN_CPI_D.l4 + LN_EQ_D.l4 + LN_FX_D.l4 + IR_S_D.l4 + IR_L_D.l4 + LN_GDP_D.l5 + LN_CPI_D.l5 + LN_EQ_D.l5 + LN_FX_D.l5 + IR_S_D.l5 + IR_L_D.l5 + LN_GDP_D.l6 + LN_CPI_D.l6 + LN_EQ_D.l6 + LN_FX_D.l6 + IR_S_D.l6 + IR_L_D.l6 + const \n",
       "\n",
       "              Estimate Std. Error t value Pr(>|t|)  \n",
       "LN_GDP_D.l1  0.0644046  0.0512491   1.257   0.2374  \n",
       "LN_CPI_D.l1 -0.0095862  0.0721832  -0.133   0.8970  \n",
       "LN_EQ_D.l1   0.0002002  0.0039843   0.050   0.9609  \n",
       "LN_FX_D.l1  -0.0035919  0.0092766  -0.387   0.7067  \n",
       "IR_S_D.l1   -0.2145824  0.5781228  -0.371   0.7183  \n",
       "IR_L_D.l1    0.4702329  0.3523557   1.335   0.2116  \n",
       "LN_GDP_D.l2 -0.0721320  0.0627724  -1.149   0.2773  \n",
       "LN_CPI_D.l2 -0.0435437  0.0800179  -0.544   0.5982  \n",
       "LN_EQ_D.l2   0.0011665  0.0028919   0.403   0.6952  \n",
       "LN_FX_D.l2  -0.0099465  0.0125502  -0.793   0.4464  \n",
       "IR_S_D.l2    0.0579046  0.6528826   0.089   0.9311  \n",
       "IR_L_D.l2   -0.2388363  0.2918091  -0.818   0.4322  \n",
       "LN_GDP_D.l3 -0.0156755  0.0576234  -0.272   0.7911  \n",
       "LN_CPI_D.l3  0.0952990  0.0778595   1.224   0.2490  \n",
       "LN_EQ_D.l3  -0.0045907  0.0036761  -1.249   0.2402  \n",
       "LN_FX_D.l3   0.0147985  0.0117084   1.264   0.2349  \n",
       "IR_S_D.l3    0.1927529  0.3769915   0.511   0.6202  \n",
       "IR_L_D.l3    0.0557469  0.4382576   0.127   0.9013  \n",
       "LN_GDP_D.l4  0.0988083  0.0696737   1.418   0.1865  \n",
       "LN_CPI_D.l4 -0.0790298  0.0693494  -1.140   0.2810  \n",
       "LN_EQ_D.l4  -0.0002924  0.0050069  -0.058   0.9546  \n",
       "LN_FX_D.l4  -0.0123566  0.0128454  -0.962   0.3588  \n",
       "IR_S_D.l4   -0.4457384  0.3517840  -1.267   0.2338  \n",
       "IR_L_D.l4    0.1827712  0.5573486   0.328   0.7497  \n",
       "LN_GDP_D.l5 -0.0451599  0.0580283  -0.778   0.4544  \n",
       "LN_CPI_D.l5 -0.1010262  0.1069030  -0.945   0.3669  \n",
       "LN_EQ_D.l5  -0.0010167  0.0057232  -0.178   0.8626  \n",
       "LN_FX_D.l5   0.0027563  0.0074739   0.369   0.7200  \n",
       "IR_S_D.l5    0.0834493  0.4282198   0.195   0.8494  \n",
       "IR_L_D.l5   -0.0736802  0.3620496  -0.204   0.8428  \n",
       "LN_GDP_D.l6 -0.0427177  0.0793116  -0.539   0.6019  \n",
       "LN_CPI_D.l6  0.0665223  0.0900839   0.738   0.4772  \n",
       "LN_EQ_D.l6   0.0037824  0.0049849   0.759   0.4655  \n",
       "LN_FX_D.l6  -0.0059740  0.0071634  -0.834   0.4238  \n",
       "IR_S_D.l6    0.3894873  0.4183582   0.931   0.3738  \n",
       "IR_L_D.l6   -1.0475354  0.4459435  -2.349   0.0407 *\n",
       "const        0.0002499  0.0015420   0.162   0.8745  \n",
       "---\n",
       "Signif. codes:  0 '***' 0.001 '**' 0.01 '*' 0.05 '.' 0.1 ' ' 1\n",
       "\n",
       "\n",
       "Residual standard error: 0.0006726 on 10 degrees of freedom\n",
       "Multiple R-Squared: 0.8033,\tAdjusted R-squared: 0.09532 \n",
       "F-statistic: 1.135 on 36 and 10 DF,  p-value: 0.4413 \n",
       "\n",
       "\n",
       "\n",
       "Covariance matrix of residuals:\n",
       "           LN_GDP_D   LN_CPI_D    LN_EQ_D    LN_FX_D     IR_S_D     IR_L_D\n",
       "LN_GDP_D  1.806e-05 -4.860e-06  1.238e-04 -3.923e-05  7.521e-07  1.150e-07\n",
       "LN_CPI_D -4.860e-06  1.077e-05  7.125e-05 -7.256e-05  9.281e-07  9.114e-07\n",
       "LN_EQ_D   1.238e-04  7.125e-05  3.935e-03 -1.066e-03  2.236e-05  2.318e-05\n",
       "LN_FX_D  -3.923e-05 -7.256e-05 -1.066e-03  1.087e-03 -1.495e-05 -5.021e-06\n",
       "IR_S_D    7.521e-07  9.281e-07  2.236e-05 -1.495e-05  2.576e-07  1.307e-07\n",
       "IR_L_D    1.150e-07  9.114e-07  2.318e-05 -5.021e-06  1.307e-07  4.524e-07\n",
       "\n",
       "Correlation matrix of residuals:\n",
       "         LN_GDP_D LN_CPI_D LN_EQ_D LN_FX_D  IR_S_D   IR_L_D\n",
       "LN_GDP_D  1.00000  -0.3485  0.4646 -0.2800  0.3487  0.04022\n",
       "LN_CPI_D -0.34853   1.0000  0.3461 -0.6706  0.5572  0.41289\n",
       "LN_EQ_D   0.46464   0.3461  1.0000 -0.5152  0.7023  0.54944\n",
       "LN_FX_D  -0.28003  -0.6706 -0.5152  1.0000 -0.8936 -0.22639\n",
       "IR_S_D    0.34873   0.5572  0.7023 -0.8936  1.0000  0.38295\n",
       "IR_L_D    0.04022   0.4129  0.5494 -0.2264  0.3829  1.00000\n",
       "\n"
      ]
     },
     "metadata": {},
     "output_type": "display_data"
    }
   ],
   "source": [
    "summary(VAR_model)"
   ]
  },
  {
   "cell_type": "code",
   "execution_count": 34,
   "metadata": {},
   "outputs": [
    {
     "data": {
      "image/png": "[encoded data removed]",
      "text/plain": [
       "plot without title"
      ]
     },
     "metadata": {
      "image/png": {
       "height": 420,
       "width": 420
      }
     },
     "output_type": "display_data"
    },
    {
     "data": {
      "image/png": "[encoded data removed]",
      "text/plain": [
       "plot without title"
      ]
     },
     "metadata": {
      "image/png": {
       "height": 420,
       "width": 420
      }
     },
     "output_type": "display_data"
    }
   ],
   "source": [
    "plot(irf(VAR_mod, n.ahead=10))"
   ]
  },
  {
   "cell_type": "code",
   "execution_count": 213,
   "metadata": {},
   "outputs": [
    {
     "data": {
      "image/png": "[encoded data removed]",
      "text/plain": [
       "plot without title"
      ]
     },
     "metadata": {
      "image/png": {
       "height": 420,
       "width": 420
      }
     },
     "output_type": "display_data"
    },
    {
     "data": {
      "image/png": "[encoded data removed]",
      "text/plain": [
       "plot without title"
      ]
     },
     "metadata": {
      "image/png": {
       "height": 420,
       "width": 420
      }
     },
     "output_type": "display_data"
    },
    {
     "data": {
      "image/png": "[encoded data removed]",
      "text/plain": [
       "plot without title"
      ]
     },
     "metadata": {
      "image/png": {
       "height": 420,
       "width": 420
      }
     },
     "output_type": "display_data"
    },
    {
     "data": {
      "image/png": "[encoded data removed]",
      "text/plain": [
       "plot without title"
      ]
     },
     "metadata": {
      "image/png": {
       "height": 420,
       "width": 420
      }
     },
     "output_type": "display_data"
    },
    {
     "data": {
      "image/png": "[encoded data removed]",
      "text/plain": [
       "plot without title"
      ]
     },
     "metadata": {
      "image/png": {
       "height": 420,
       "width": 420
      }
     },
     "output_type": "display_data"
    },
    {
     "data": {
      "image/png": "[encoded data removed]",
      "text/plain": [
       "plot without title"
      ]
     },
     "metadata": {
      "image/png": {
       "height": 420,
       "width": 420
      }
     },
     "output_type": "display_data"
    }
   ],
   "source": [
    "plot(irf(VAR_model, n.ahead=10))"
   ]
  },
  {
   "cell_type": "code",
   "execution_count": 167,
   "metadata": {},
   "outputs": [],
   "source": [
    "# book methods\n",
    "VECM2<- ca.jo(macv[, c('LN_GDP_D','LN_CPI_D', 'LN_EQ_D', 'LN_FX_D', 'IR_S_D', 'IR_L_D')], type = 'trace',ecdet='none', K = 2, spec ='transitory')"
   ]
  },
  {
   "cell_type": "code",
   "execution_count": 168,
   "metadata": {},
   "outputs": [],
   "source": [
    "VECM2_eigen<- ca.jo(macv[, c('LN_GDP_D','LN_CPI_D', 'LN_EQ_D', 'LN_FX_D', 'IR_S_D', 'IR_L_D')], type = 'eigen',ecdet='none', K = 2, spec ='transitory')"
   ]
  },
  {
   "cell_type": "code",
   "execution_count": 169,
   "metadata": {},
   "outputs": [
    {
     "data": {
      "text/plain": [
       "\n",
       "###################### \n",
       "# Johansen-Procedure # \n",
       "###################### \n",
       "\n",
       "Test type: trace statistic , with linear trend \n",
       "\n",
       "Eigenvalues (lambda):\n",
       "[1] 0.6603430 0.6034759 0.3518141 0.3379879 0.1837329 0.1309659\n",
       "\n",
       "Values of teststatistic and critical values of test:\n",
       "\n",
       "           test 10pct  5pct   1pct\n",
       "r <= 5 |   7.16  6.50  8.18  11.65\n",
       "r <= 4 |  17.51 15.66 17.95  23.52\n",
       "r <= 3 |  38.55 28.71 31.52  37.22\n",
       "r <= 2 |  60.66 45.23 48.28  55.43\n",
       "r <= 1 | 107.84 66.49 70.60  78.87\n",
       "r = 0  | 162.91 85.18 90.39 104.20\n",
       "\n",
       "Eigenvectors, normalised to first column:\n",
       "(These are the cointegration relations)\n",
       "\n",
       "            LN_GDP_D.l1   LN_CPI_D.l1   LN_EQ_D.l1  LN_FX_D.l1   IR_S_D.l1\n",
       "LN_GDP_D.l1    1.000000   1.000000000   1.00000000  1.00000000    1.000000\n",
       "LN_CPI_D.l1   -3.743363  -1.138889733   3.20531821  1.46425383  -21.843125\n",
       "LN_EQ_D.l1     1.237039  -0.002193017  -0.25796710  0.03646138    6.210998\n",
       "LN_FX_D.l1    -5.054971   0.120526305  -0.07423675  0.01927490    6.729164\n",
       "IR_S_D.l1   -137.616947  -3.706670835  11.38560166 -7.73287252  423.202553\n",
       "IR_L_D.l1   -118.240510 -17.343950381 -16.25802172  2.49285411 -379.007431\n",
       "              IR_L_D.l1\n",
       "LN_GDP_D.l1  1.00000000\n",
       "LN_CPI_D.l1 -1.50287733\n",
       "LN_EQ_D.l1  -0.10242388\n",
       "LN_FX_D.l1  -0.05295351\n",
       "IR_S_D.l1   -1.05682147\n",
       "IR_L_D.l1    7.35050455\n",
       "\n",
       "Weights W:\n",
       "(This is the loading matrix)\n",
       "\n",
       "           LN_GDP_D.l1 LN_CPI_D.l1   LN_EQ_D.l1  LN_FX_D.l1     IR_S_D.l1\n",
       "LN_GDP_D.d 0.001871358  0.01686902 -0.131302313 -0.12347286 -0.0022701836\n",
       "LN_CPI_D.d 0.007346319  0.10847717 -0.032189967 -0.15363379  0.0005611187\n",
       "LN_EQ_D.d  0.045428166  2.80433384  0.718637980 -1.69153940 -0.0432513118\n",
       "LN_FX_D.d  0.133906676 -2.25684717  0.775864756 -0.83384908  0.0083326728\n",
       "IR_S_D.d   0.001974026  0.04003042 -0.013173380  0.04918370 -0.0003456783\n",
       "IR_L_D.d   0.002595110  0.04164626  0.006677064 -0.00212014  0.0001136351\n",
       "              IR_L_D.l1\n",
       "LN_GDP_D.d -0.110319922\n",
       "LN_CPI_D.d  0.095032732\n",
       "LN_EQ_D.d  -0.186299249\n",
       "LN_FX_D.d  -0.328646847\n",
       "IR_S_D.d    0.009032711\n",
       "IR_L_D.d   -0.007986391\n"
      ]
     },
     "metadata": {},
     "output_type": "display_data"
    }
   ],
   "source": [
    "summary(VECM2)"
   ]
  },
  {
   "cell_type": "code",
   "execution_count": 152,
   "metadata": {},
   "outputs": [
    {
     "data": {
      "text/plain": [
       "\n",
       "###################### \n",
       "# Johansen-Procedure # \n",
       "###################### \n",
       "\n",
       "Test type: maximal eigenvalue statistic (lambda max) , with linear trend \n",
       "\n",
       "Eigenvalues (lambda):\n",
       "[1] 0.6603430 0.6034759 0.3518141 0.3379879 0.1837329 0.1309659\n",
       "\n",
       "Values of teststatistic and critical values of test:\n",
       "\n",
       "          test 10pct  5pct  1pct\n",
       "r <= 5 |  7.16  6.50  8.18 11.65\n",
       "r <= 4 | 10.35 12.91 14.90 19.19\n",
       "r <= 3 | 21.04 18.90 21.07 25.75\n",
       "r <= 2 | 22.11 24.78 27.14 32.14\n",
       "r <= 1 | 47.18 30.84 33.32 38.78\n",
       "r = 0  | 55.07 36.25 39.43 44.59\n",
       "\n",
       "Eigenvectors, normalised to first column:\n",
       "(These are the cointegration relations)\n",
       "\n",
       "            LN_GDP_D.l1   LN_CPI_D.l1   LN_EQ_D.l1  LN_FX_D.l1   IR_S_D.l1\n",
       "LN_GDP_D.l1    1.000000   1.000000000   1.00000000  1.00000000    1.000000\n",
       "LN_CPI_D.l1   -3.743363  -1.138889733   3.20531821  1.46425383  -21.843125\n",
       "LN_EQ_D.l1     1.237039  -0.002193017  -0.25796710  0.03646138    6.210998\n",
       "LN_FX_D.l1    -5.054971   0.120526305  -0.07423675  0.01927490    6.729164\n",
       "IR_S_D.l1   -137.616947  -3.706670835  11.38560166 -7.73287252  423.202553\n",
       "IR_L_D.l1   -118.240510 -17.343950381 -16.25802172  2.49285411 -379.007431\n",
       "              IR_L_D.l1\n",
       "LN_GDP_D.l1  1.00000000\n",
       "LN_CPI_D.l1 -1.50287733\n",
       "LN_EQ_D.l1  -0.10242388\n",
       "LN_FX_D.l1  -0.05295351\n",
       "IR_S_D.l1   -1.05682147\n",
       "IR_L_D.l1    7.35050455\n",
       "\n",
       "Weights W:\n",
       "(This is the loading matrix)\n",
       "\n",
       "           LN_GDP_D.l1 LN_CPI_D.l1   LN_EQ_D.l1  LN_FX_D.l1     IR_S_D.l1\n",
       "LN_GDP_D.d 0.001871358  0.01686902 -0.131302313 -0.12347286 -0.0022701836\n",
       "LN_CPI_D.d 0.007346319  0.10847717 -0.032189967 -0.15363379  0.0005611187\n",
       "LN_EQ_D.d  0.045428166  2.80433384  0.718637980 -1.69153940 -0.0432513118\n",
       "LN_FX_D.d  0.133906676 -2.25684717  0.775864756 -0.83384908  0.0083326728\n",
       "IR_S_D.d   0.001974026  0.04003042 -0.013173380  0.04918370 -0.0003456783\n",
       "IR_L_D.d   0.002595110  0.04164626  0.006677064 -0.00212014  0.0001136351\n",
       "              IR_L_D.l1\n",
       "LN_GDP_D.d -0.110319922\n",
       "LN_CPI_D.d  0.095032732\n",
       "LN_EQ_D.d  -0.186299249\n",
       "LN_FX_D.d  -0.328646847\n",
       "IR_S_D.d    0.009032711\n",
       "IR_L_D.d   -0.007986391\n"
      ]
     },
     "metadata": {},
     "output_type": "display_data"
    }
   ],
   "source": [
    "summary(VECM2_eigen)"
   ]
  },
  {
   "cell_type": "code",
   "execution_count": 216,
   "metadata": {},
   "outputs": [],
   "source": [
    "vec2var<-vec2var(VECM2,r=3)"
   ]
  },
  {
   "cell_type": "code",
   "execution_count": 224,
   "metadata": {},
   "outputs": [
    {
     "data": {
      "text/plain": [
       "\n",
       "Coefficient matrix of lagged endogenous variables:\n",
       "\n",
       "A1:\n",
       "         LN_GDP_D.l1 LN_CPI_D.l1   LN_EQ_D.l1   LN_FX_D.l1  IR_S_D.l1\n",
       "LN_GDP_D  0.63418583 -0.25236509  0.028527276  0.013993359 -0.5837001\n",
       "LN_CPI_D  0.04317199  0.65200897  0.006340481 -0.015428446 -0.5535314\n",
       "LN_EQ_D   4.42150955 -4.51719432  0.409852531 -0.226787014 -7.6595002\n",
       "LN_FX_D  -2.25544985  2.24693816 -0.004181022  0.233514006 -1.0665347\n",
       "IR_S_D    0.03465304 -0.09934830  0.003816154 -0.003913155  0.3128279\n",
       "IR_L_D    0.01456270 -0.02563006  0.001042603 -0.004873619 -0.2788087\n",
       "            IR_L_D.l1\n",
       "LN_GDP_D  -0.08647805\n",
       "LN_CPI_D  -1.17244212\n",
       "LN_EQ_D  -36.49663208\n",
       "LN_FX_D   -2.06318382\n",
       "IR_S_D    -0.06224765\n",
       "IR_L_D     0.20307425\n",
       "\n",
       "\n",
       "A2:\n",
       "          LN_GDP_D.l2 LN_CPI_D.l2    LN_EQ_D.l2    LN_FX_D.l2  IR_S_D.l2\n",
       "LN_GDP_D  0.253252234 -0.19471773  0.0076223512 -0.0116724012 -1.2313142\n",
       "LN_CPI_D  0.040461528  0.09376847  0.0108132656 -0.0062429519 -1.2260380\n",
       "LN_EQ_D  -0.853109568  3.45677660  0.4548089876  0.2817956135 -0.8048019\n",
       "LN_FX_D   0.908374116  2.30899403 -0.0253694294 -0.2400154531 -0.1622167\n",
       "IR_S_D   -0.005821973  0.00414369  0.0019363050 -0.0002628219  0.1171462\n",
       "IR_L_D    0.036355727 -0.01011275  0.0003538562 -0.0037207989 -0.1566689\n",
       "           IR_L_D.l2\n",
       "LN_GDP_D   1.7073482\n",
       "LN_CPI_D  -1.0542679\n",
       "LN_EQ_D  -29.1966761\n",
       "LN_FX_D   12.7586094\n",
       "IR_S_D    -0.6512748\n",
       "IR_L_D    -0.3407878\n",
       "\n",
       "\n",
       "Coefficient matrix of deterministic regressor(s).\n",
       "\n",
       "              constant\n",
       "LN_GDP_D  0.0032029197\n",
       "LN_CPI_D  0.0005112759\n",
       "LN_EQ_D  -0.0150356781\n",
       "LN_FX_D  -0.0305233036\n",
       "IR_S_D    0.0002833307\n",
       "IR_L_D   -0.0002446846"
      ]
     },
     "metadata": {},
     "output_type": "display_data"
    }
   ],
   "source": [
    "vec2var"
   ]
  },
  {
   "cell_type": "code",
   "execution_count": 217,
   "metadata": {},
   "outputs": [],
   "source": [
    "# Tests of normality \n",
    "vec2var.norm<- normality.test(vec2var)"
   ]
  },
  {
   "cell_type": "code",
   "execution_count": 218,
   "metadata": {},
   "outputs": [
    {
     "data": {
      "text/plain": [
       "$JB\n",
       "\n",
       "\tJB-Test (multivariate)\n",
       "\n",
       "data:  Residuals of VAR object vec2var\n",
       "Chi-squared = 9.697, df = 12, p-value = 0.6425\n",
       "\n",
       "\n",
       "$Skewness\n",
       "\n",
       "\tSkewness only (multivariate)\n",
       "\n",
       "data:  Residuals of VAR object vec2var\n",
       "Chi-squared = 5.3773, df = 6, p-value = 0.4964\n",
       "\n",
       "\n",
       "$Kurtosis\n",
       "\n",
       "\tKurtosis only (multivariate)\n",
       "\n",
       "data:  Residuals of VAR object vec2var\n",
       "Chi-squared = 4.3197, df = 6, p-value = 0.6335\n",
       "\n"
      ]
     },
     "metadata": {},
     "output_type": "display_data"
    }
   ],
   "source": [
    "vec2var.norm$jb.mul"
   ]
  },
  {
   "cell_type": "code",
   "execution_count": 226,
   "metadata": {},
   "outputs": [],
   "source": [
    "# Impulse response analysis\n",
    "irf_eq<- irf(vec2var, impulse=\"LN_EQ_D\", response=\"LN_GDP_D\", n.ahead=10, boot=TRUE, ci = 0.99)"
   ]
  },
  {
   "cell_type": "code",
   "execution_count": 227,
   "metadata": {},
   "outputs": [],
   "source": [
    "irf_fx<- irf(vec2var, impulse=\"LN_FX_D\", response=\"LN_GDP_D\", n.ahead=10, boot=TRUE, ci = 0.99)"
   ]
  },
  {
   "cell_type": "code",
   "execution_count": 228,
   "metadata": {},
   "outputs": [],
   "source": [
    "irf_irs<- irf(vec2var, impulse=\"IR_S_D\", response=\"LN_GDP_D\",n.ahead=10, boot=TRUE, ci = 0.99)"
   ]
  },
  {
   "cell_type": "code",
   "execution_count": 229,
   "metadata": {},
   "outputs": [],
   "source": [
    "irf_irl<- irf(vec2var, impulse=\"IR_L_D\", response=\"LN_GDP_D\",n.ahead=10, boot=TRUE, ci = 0.99)"
   ]
  },
  {
   "cell_type": "code",
   "execution_count": 231,
   "metadata": {},
   "outputs": [
    {
     "data": {
      "image/png": "[encoded data removed]",
      "text/plain": [
       "plot without title"
      ]
     },
     "metadata": {
      "image/png": {
       "height": 420,
       "width": 420
      }
     },
     "output_type": "display_data"
    },
    {
     "data": {
      "image/png": "[encoded data removed]",
      "text/plain": [
       "plot without title"
      ]
     },
     "metadata": {
      "image/png": {
       "height": 420,
       "width": 420
      }
     },
     "output_type": "display_data"
    },
    {
     "data": {
      "image/png": "[encoded data removed]",
      "text/plain": [
       "plot without title"
      ]
     },
     "metadata": {
      "image/png": {
       "height": 420,
       "width": 420
      }
     },
     "output_type": "display_data"
    },
    {
     "data": {
      "image/png": "[encoded data removed]",
      "text/plain": [
       "plot without title"
      ]
     },
     "metadata": {
      "image/png": {
       "height": 420,
       "width": 420
      }
     },
     "output_type": "display_data"
    }
   ],
   "source": [
    "plot(irf_eq)\n",
    "plot(irf_fx)\n",
    "plot(irf_irs)\n",
    "plot(irf_irl)"
   ]
  },
  {
   "cell_type": "code",
   "execution_count": null,
   "metadata": {},
   "outputs": [],
   "source": []
  }
 ],
 "metadata": {
  "kernelspec": {
   "display_name": "R",
   "language": "R",
   "name": "ir"
  },
  "language_info": {
   "codemirror_mode": "r",
   "file_extension": ".r",
   "mimetype": "text/x-r-source",
   "name": "R",
   "pygments_lexer": "r",
   "version": "4.0.3"
  }
 },
 "nbformat": 4,
 "nbformat_minor": 4
}

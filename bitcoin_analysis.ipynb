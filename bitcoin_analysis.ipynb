{
 "cells": [
  {
   "cell_type": "code",
   "execution_count": 1,
   "metadata": {},
   "outputs": [
    {
     "name": "stderr",
     "output_type": "stream",
     "text": [
      "Loading required package: MASS\n",
      "\n",
      "Loading required package: strucchange\n",
      "\n",
      "Loading required package: zoo\n",
      "\n",
      "\n",
      "Attaching package: 'zoo'\n",
      "\n",
      "\n",
      "The following objects are masked from 'package:base':\n",
      "\n",
      "    as.Date, as.Date.numeric\n",
      "\n",
      "\n",
      "Loading required package: sandwich\n",
      "\n",
      "Loading required package: urca\n",
      "\n",
      "Loading required package: lmtest\n",
      "\n"
     ]
    }
   ],
   "source": [
    "library('vars')"
   ]
  },
  {
   "cell_type": "code",
   "execution_count": 2,
   "metadata": {},
   "outputs": [
    {
     "name": "stderr",
     "output_type": "stream",
     "text": [
      "Registered S3 method overwritten by 'quantmod':\n",
      "  method            from\n",
      "  as.zoo.data.frame zoo \n",
      "\n"
     ]
    }
   ],
   "source": [
    "library('tsDyn')"
   ]
  },
  {
   "cell_type": "code",
   "execution_count": 3,
   "metadata": {},
   "outputs": [
    {
     "name": "stderr",
     "output_type": "stream",
     "text": [
      "Loading required package: lattice\n",
      "\n",
      "Loading required package: survival\n",
      "\n",
      "Loading required package: Formula\n",
      "\n",
      "Loading required package: ggplot2\n",
      "\n",
      "\n",
      "Attaching package: 'Hmisc'\n",
      "\n",
      "\n",
      "The following objects are masked from 'package:base':\n",
      "\n",
      "    format.pval, units\n",
      "\n",
      "\n"
     ]
    }
   ],
   "source": [
    "library('Hmisc')"
   ]
  },
  {
   "cell_type": "code",
   "execution_count": 4,
   "metadata": {},
   "outputs": [
    {
     "name": "stderr",
     "output_type": "stream",
     "text": [
      "Loading required package: fabletools\n",
      "\n",
      "\n",
      "Attaching package: 'fabletools'\n",
      "\n",
      "\n",
      "The following object is masked from 'package:tsDyn':\n",
      "\n",
      "    MAPE\n",
      "\n",
      "\n"
     ]
    }
   ],
   "source": [
    "library('feasts')"
   ]
  },
  {
   "cell_type": "code",
   "execution_count": 5,
   "metadata": {},
   "outputs": [
    {
     "name": "stderr",
     "output_type": "stream",
     "text": [
      "\n",
      "Attaching package: 'tsibble'\n",
      "\n",
      "\n",
      "The following object is masked from 'package:zoo':\n",
      "\n",
      "    index\n",
      "\n",
      "\n"
     ]
    }
   ],
   "source": [
    "library('tsibble')"
   ]
  },
  {
   "cell_type": "code",
   "execution_count": 6,
   "metadata": {},
   "outputs": [
    {
     "name": "stderr",
     "output_type": "stream",
     "text": [
      "\n",
      "Attaching package: 'lubridate'\n",
      "\n",
      "\n",
      "The following object is masked from 'package:tsibble':\n",
      "\n",
      "    interval\n",
      "\n",
      "\n",
      "The following objects are masked from 'package:base':\n",
      "\n",
      "    date, intersect, setdiff, union\n",
      "\n",
      "\n"
     ]
    }
   ],
   "source": [
    "library('lubridate')"
   ]
  },
  {
   "cell_type": "code",
   "execution_count": 7,
   "metadata": {},
   "outputs": [],
   "source": [
    "library(\"ggpubr\")"
   ]
  },
  {
   "cell_type": "code",
   "execution_count": 8,
   "metadata": {},
   "outputs": [],
   "source": [
    "library('dyn')"
   ]
  },
  {
   "cell_type": "code",
   "execution_count": 9,
   "metadata": {},
   "outputs": [
    {
     "name": "stderr",
     "output_type": "stream",
     "text": [
      "\n",
      "Attaching package: 'DataCombine'\n",
      "\n",
      "\n",
      "The following object is masked from 'package:tsibble':\n",
      "\n",
      "    slide\n",
      "\n",
      "\n"
     ]
    }
   ],
   "source": [
    "library('DataCombine')"
   ]
  },
  {
   "cell_type": "code",
   "execution_count": 10,
   "metadata": {},
   "outputs": [
    {
     "name": "stderr",
     "output_type": "stream",
     "text": [
      "-- \u001b[1mAttaching packages\u001b[22m --------------------------------------- tidyverse 1.3.0 --\n",
      "\n",
      "\u001b[32mv\u001b[39m \u001b[34mtibble \u001b[39m 3.0.4     \u001b[32mv\u001b[39m \u001b[34mdplyr  \u001b[39m 1.0.2\n",
      "\u001b[32mv\u001b[39m \u001b[34mtidyr  \u001b[39m 1.1.2     \u001b[32mv\u001b[39m \u001b[34mstringr\u001b[39m 1.4.0\n",
      "\u001b[32mv\u001b[39m \u001b[34mreadr  \u001b[39m 1.4.0     \u001b[32mv\u001b[39m \u001b[34mforcats\u001b[39m 0.5.0\n",
      "\u001b[32mv\u001b[39m \u001b[34mpurrr  \u001b[39m 0.3.4     \n",
      "\n",
      "-- \u001b[1mConflicts\u001b[22m ------------------------------------------ tidyverse_conflicts() --\n",
      "\u001b[31mx\u001b[39m \u001b[34mlubridate\u001b[39m::\u001b[32mas.difftime()\u001b[39m masks \u001b[34mbase\u001b[39m::as.difftime()\n",
      "\u001b[31mx\u001b[39m \u001b[34mstringr\u001b[39m::\u001b[32mboundary()\u001b[39m      masks \u001b[34mstrucchange\u001b[39m::boundary()\n",
      "\u001b[31mx\u001b[39m \u001b[34mlubridate\u001b[39m::\u001b[32mdate()\u001b[39m        masks \u001b[34mbase\u001b[39m::date()\n",
      "\u001b[31mx\u001b[39m \u001b[34mdplyr\u001b[39m::\u001b[32mfilter()\u001b[39m          masks \u001b[34mstats\u001b[39m::filter()\n",
      "\u001b[31mx\u001b[39m \u001b[34mlubridate\u001b[39m::\u001b[32mintersect()\u001b[39m   masks \u001b[34mbase\u001b[39m::intersect()\n",
      "\u001b[31mx\u001b[39m \u001b[34mlubridate\u001b[39m::\u001b[32minterval()\u001b[39m    masks \u001b[34mtsibble\u001b[39m::interval()\n",
      "\u001b[31mx\u001b[39m \u001b[34mdplyr\u001b[39m::\u001b[32mlag()\u001b[39m             masks \u001b[34mstats\u001b[39m::lag()\n",
      "\u001b[31mx\u001b[39m \u001b[34mdplyr\u001b[39m::\u001b[32mselect()\u001b[39m          masks \u001b[34mMASS\u001b[39m::select()\n",
      "\u001b[31mx\u001b[39m \u001b[34mlubridate\u001b[39m::\u001b[32msetdiff()\u001b[39m     masks \u001b[34mbase\u001b[39m::setdiff()\n",
      "\u001b[31mx\u001b[39m \u001b[34mdplyr\u001b[39m::\u001b[32msrc()\u001b[39m             masks \u001b[34mHmisc\u001b[39m::src()\n",
      "\u001b[31mx\u001b[39m \u001b[34mdplyr\u001b[39m::\u001b[32msummarize()\u001b[39m       masks \u001b[34mHmisc\u001b[39m::summarize()\n",
      "\u001b[31mx\u001b[39m \u001b[34mlubridate\u001b[39m::\u001b[32munion()\u001b[39m       masks \u001b[34mbase\u001b[39m::union()\n",
      "\n"
     ]
    }
   ],
   "source": [
    "library('tidyverse')"
   ]
  },
  {
   "cell_type": "code",
   "execution_count": 11,
   "metadata": {},
   "outputs": [
    {
     "name": "stderr",
     "output_type": "stream",
     "text": [
      "Warning message:\n",
      "\"package 'DataCombine' is in use and will not be installed\"\n"
     ]
    }
   ],
   "source": [
    "install.packages('DataCombine')"
   ]
  },
  {
   "cell_type": "code",
   "execution_count": 12,
   "metadata": {},
   "outputs": [],
   "source": [
    "# uploading data that includes weekly log-returns of bitcoin and the popularity of search term 'bitcoin' measured by Google Trends \n",
    "# the log-returns of popularity of search term 'bitcoin' means the log(r(t)/r(t-1)), where r is the popularity of search term 'bitcoin'\n",
    "data_ira <- read.csv('C:/Users/pawel/PycharmProjects/quandl/ira.csv')"
   ]
  },
  {
   "cell_type": "code",
   "execution_count": 13,
   "metadata": {},
   "outputs": [],
   "source": [
    "# deleting redundant column\n",
    "data_ira$X<-NULL"
   ]
  },
  {
   "cell_type": "code",
   "execution_count": 14,
   "metadata": {},
   "outputs": [],
   "source": [
    "data_ira$date <- as.Date(data_ira$date)"
   ]
  },
  {
   "cell_type": "code",
   "execution_count": 15,
   "metadata": {},
   "outputs": [
    {
     "name": "stdout",
     "output_type": "stream",
     "text": [
      "'data.frame':\t260 obs. of  3 variables:\n",
      " $ date     : Date, format: \"2016-01-17\" \"2016-01-24\" ...\n",
      " $ change   : num  0 0 0 0 0 0 0 0 0 0 ...\n",
      " $ change_bt: num  -0.05571 0.00723 0.00259 -0.03542 0.01854 ...\n"
     ]
    }
   ],
   "source": [
    "str(data_ira)"
   ]
  },
  {
   "cell_type": "code",
   "execution_count": 16,
   "metadata": {},
   "outputs": [],
   "source": [
    "data_ira <- data_ira %>% \n",
    "  rename(\n",
    "    google_trends_change = change,\n",
    "    bitcoin_change = change_bt\n",
    "    )"
   ]
  },
  {
   "cell_type": "code",
   "execution_count": 17,
   "metadata": {},
   "outputs": [
    {
     "data": {
      "text/html": [
       "<table>\n",
       "<caption>A matrix: 2 × 1 of type dbl</caption>\n",
       "<tbody>\n",
       "\t<tr><td>0.01</td></tr>\n",
       "\t<tr><td>0.01</td></tr>\n",
       "</tbody>\n",
       "</table>\n"
      ],
      "text/latex": [
       "A matrix: 2 × 1 of type dbl\n",
       "\\begin{tabular}{l}\n",
       "\t 0.01\\\\\n",
       "\t 0.01\\\\\n",
       "\\end{tabular}\n"
      ],
      "text/markdown": [
       "\n",
       "A matrix: 2 × 1 of type dbl\n",
       "\n",
       "| 0.01 |\n",
       "| 0.01 |\n",
       "\n"
      ],
      "text/plain": [
       "     [,1]\n",
       "[1,] 0.01\n",
       "[2,] 0.01"
      ]
     },
     "metadata": {},
     "output_type": "display_data"
    }
   ],
   "source": [
    "#Phillips-Perron stationarity test\n",
    "pptab<-NULL\n",
    "for(i in 2:ncol(data_ira)){\n",
    "pp<-PP.test(data_ira[,i])\n",
    "pptab<-rbind(pptab,pp$p.value)\n",
    "}\n",
    "pptab"
   ]
  },
  {
   "cell_type": "code",
   "execution_count": 18,
   "metadata": {},
   "outputs": [],
   "source": [
    "# both time series are stationary at 0.01"
   ]
  },
  {
   "cell_type": "code",
   "execution_count": 19,
   "metadata": {},
   "outputs": [
    {
     "name": "stderr",
     "output_type": "stream",
     "text": [
      "`geom_smooth()` using formula 'y ~ x'\n",
      "\n"
     ]
    },
    {
     "data": {
      "image/png": "[encoded data removed]",
      "text/plain": [
       "plot without title"
      ]
     },
     "metadata": {
      "image/png": {
       "height": 420,
       "width": 420
      }
     },
     "output_type": "display_data"
    }
   ],
   "source": [
    "# correlation between variables (pearson)\n",
    "ggscatter(data_ira[2:3], x = \"google_trends_change\", y = \"bitcoin_change\",\n",
    "          color = \"blue\", cor.coef = TRUE, conf.int = TRUE,\n",
    "          cor.method = \"spearman\", add = 'reg.line',\n",
    "          xlab = \"google trends\", ylab = \"bitcoin\")"
   ]
  },
  {
   "cell_type": "code",
   "execution_count": 20,
   "metadata": {},
   "outputs": [],
   "source": [
    "res <- cor.test(data_ira$google_trends_change, data_ira$bitcoin_change, \n",
    "                    method = \"pearson\")"
   ]
  },
  {
   "cell_type": "code",
   "execution_count": 21,
   "metadata": {},
   "outputs": [
    {
     "data": {
      "text/plain": [
       "\n",
       "\tPearson's product-moment correlation\n",
       "\n",
       "data:  data_ira$google_trends_change and data_ira$bitcoin_change\n",
       "t = 1.3211, df = 258, p-value = 0.1876\n",
       "alternative hypothesis: true correlation is not equal to 0\n",
       "95 percent confidence interval:\n",
       " -0.04007991  0.20161652\n",
       "sample estimates:\n",
       "       cor \n",
       "0.08197345 \n"
      ]
     },
     "metadata": {},
     "output_type": "display_data"
    }
   ],
   "source": [
    "res"
   ]
  },
  {
   "cell_type": "code",
   "execution_count": 23,
   "metadata": {},
   "outputs": [
    {
     "data": {
      "image/png": "[encoded data removed]",
      "text/plain": [
       "Plot with title \"data_ira$google_trends_change & data_ira$bitcoin_change\""
      ]
     },
     "metadata": {
      "image/png": {
       "height": 420,
       "width": 420
      }
     },
     "output_type": "display_data"
    }
   ],
   "source": [
    "# the correlation between google's trend log(t-1/t-2) and bitcoin log(t/t-1) is statistically significant\n",
    "ccf(data_ira$google_trends_change, data_ira$bitcoin_change, 3) "
   ]
  },
  {
   "cell_type": "code",
   "execution_count": 25,
   "metadata": {},
   "outputs": [],
   "source": [
    "# crosscorrelation function of x and y is significant at lag -1 of variable google_trends_change\n",
    "# it means that google_trends_change from previous week is significantly correlated with bitcoin change from current week"
   ]
  },
  {
   "cell_type": "code",
   "execution_count": 40,
   "metadata": {},
   "outputs": [],
   "source": [
    "lag_var <- Lag(data_ira$google_trends_change,+1)"
   ]
  },
  {
   "cell_type": "code",
   "execution_count": 41,
   "metadata": {},
   "outputs": [],
   "source": [
    "data_ira <- cbind(data_ira, lag_var)"
   ]
  },
  {
   "cell_type": "code",
   "execution_count": 43,
   "metadata": {},
   "outputs": [],
   "source": [
    "data_ira <- data_ira[c(-4)]"
   ]
  },
  {
   "cell_type": "code",
   "execution_count": 44,
   "metadata": {},
   "outputs": [],
   "source": [
    "lm_model <- lm(bitcoin_change ~ lag_var, data = data_ira)"
   ]
  },
  {
   "cell_type": "code",
   "execution_count": 45,
   "metadata": {},
   "outputs": [
    {
     "data": {
      "text/plain": [
       "\n",
       "Call:\n",
       "lm(formula = bitcoin_change ~ lag_var, data = data_ira)\n",
       "\n",
       "Residuals:\n",
       "      Min        1Q    Median        3Q       Max \n",
       "-0.136891 -0.014323 -0.001774  0.011584  0.140525 \n",
       "\n",
       "Coefficients:\n",
       "            Estimate Std. Error t value Pr(>|t|)   \n",
       "(Intercept) 0.006154   0.002104   2.925  0.00375 **\n",
       "lag_var     0.024475   0.009196   2.661  0.00827 **\n",
       "---\n",
       "Signif. codes:  0 '***' 0.001 '**' 0.01 '*' 0.05 '.' 0.1 ' ' 1\n",
       "\n",
       "Residual standard error: 0.03382 on 257 degrees of freedom\n",
       "  (1 observation deleted due to missingness)\n",
       "Multiple R-squared:  0.02682,\tAdjusted R-squared:  0.02303 \n",
       "F-statistic: 7.083 on 1 and 257 DF,  p-value: 0.008274\n"
      ]
     },
     "metadata": {},
     "output_type": "display_data"
    }
   ],
   "source": [
    "summary(lm_model)"
   ]
  },
  {
   "cell_type": "code",
   "execution_count": 46,
   "metadata": {},
   "outputs": [
    {
     "data": {
      "image/png": "[encoded data removed]",
      "text/plain": [
       "Plot with title \"\""
      ]
     },
     "metadata": {
      "image/png": {
       "height": 420,
       "width": 420
      }
     },
     "output_type": "display_data"
    },
    {
     "data": {
      "image/png": "[encoded data removed]",
      "text/plain": [
       "Plot with title \"\""
      ]
     },
     "metadata": {
      "image/png": {
       "height": 420,
       "width": 420
      }
     },
     "output_type": "display_data"
    },
    {
     "data": {
      "image/png": "[encoded data removed]",
      "text/plain": [
       "Plot with title \"\""
      ]
     },
     "metadata": {
      "image/png": {
       "height": 420,
       "width": 420
      }
     },
     "output_type": "display_data"
    },
    {
     "data": {
      "image/png": "[encoded data removed]",
      "text/plain": [
       "Plot with title \"\""
      ]
     },
     "metadata": {
      "image/png": {
       "height": 420,
       "width": 420
      }
     },
     "output_type": "display_data"
    }
   ],
   "source": [
    "plot(lm_model)"
   ]
  },
  {
   "cell_type": "code",
   "execution_count": 47,
   "metadata": {},
   "outputs": [],
   "source": [
    "# optimal lag selection\n",
    "lag_bitcoin <- VARselect(data_ira[, c('google_trends_change','bitcoin_change')])"
   ]
  },
  {
   "cell_type": "code",
   "execution_count": 48,
   "metadata": {},
   "outputs": [
    {
     "data": {
      "text/html": [
       "<dl>\n",
       "\t<dt>$selection</dt>\n",
       "\t\t<dd><style>\n",
       ".dl-inline {width: auto; margin:0; padding: 0}\n",
       ".dl-inline>dt, .dl-inline>dd {float: none; width: auto; display: inline-block}\n",
       ".dl-inline>dt::after {content: \":\\0020\"; padding-right: .5ex}\n",
       ".dl-inline>dt:not(:first-of-type) {padding-left: .5ex}\n",
       "</style><dl class=dl-inline><dt>AIC(n)</dt><dd>1</dd><dt>HQ(n)</dt><dd>1</dd><dt>SC(n)</dt><dd>1</dd><dt>FPE(n)</dt><dd>1</dd></dl>\n",
       "</dd>\n",
       "\t<dt>$criteria</dt>\n",
       "\t\t<dd><table>\n",
       "<caption>A matrix: 4 × 10 of type dbl</caption>\n",
       "<thead>\n",
       "\t<tr><th></th><th scope=col>1</th><th scope=col>2</th><th scope=col>3</th><th scope=col>4</th><th scope=col>5</th><th scope=col>6</th><th scope=col>7</th><th scope=col>8</th><th scope=col>9</th><th scope=col>10</th></tr>\n",
       "</thead>\n",
       "<tbody>\n",
       "\t<tr><th scope=row>AIC(n)</th><td>-9.6452138813</td><td>-9.627848e+00</td><td>-9.603176e+00</td><td>-9.591649e+00</td><td>-9.582817e+00</td><td>-9.568111e+00</td><td>-9.554330e+00</td><td>-9.530508e+00</td><td>-9.503613e+00</td><td>-9.498421e+00</td></tr>\n",
       "\t<tr><th scope=row>HQ(n)</th><td>-9.6111990420</td><td>-9.571157e+00</td><td>-9.523808e+00</td><td>-9.489605e+00</td><td>-9.458096e+00</td><td>-9.420714e+00</td><td>-9.384256e+00</td><td>-9.337757e+00</td><td>-9.288185e+00</td><td>-9.260317e+00</td></tr>\n",
       "\t<tr><th scope=row>SC(n)</th><td>-9.5606988192</td><td>-9.486990e+00</td><td>-9.405974e+00</td><td>-9.338104e+00</td><td>-9.272929e+00</td><td>-9.201879e+00</td><td>-9.131755e+00</td><td>-9.051589e+00</td><td>-8.968350e+00</td><td>-8.906816e+00</td></tr>\n",
       "\t<tr><th scope=row>FPE(n)</th><td> 0.0000647348</td><td> 6.586933e-05</td><td> 6.751593e-05</td><td> 6.830093e-05</td><td> 6.891038e-05</td><td> 6.993645e-05</td><td> 7.091408e-05</td><td> 7.263327e-05</td><td> 7.462573e-05</td><td> 7.502964e-05</td></tr>\n",
       "</tbody>\n",
       "</table>\n",
       "</dd>\n",
       "</dl>\n"
      ],
      "text/latex": [
       "\\begin{description}\n",
       "\\item[\\$selection] \\begin{description*}\n",
       "\\item[AIC(n)] 1\n",
       "\\item[HQ(n)] 1\n",
       "\\item[SC(n)] 1\n",
       "\\item[FPE(n)] 1\n",
       "\\end{description*}\n",
       "\n",
       "\\item[\\$criteria] A matrix: 4 × 10 of type dbl\n",
       "\\begin{tabular}{r|llllllllll}\n",
       "  & 1 & 2 & 3 & 4 & 5 & 6 & 7 & 8 & 9 & 10\\\\\n",
       "\\hline\n",
       "\tAIC(n) & -9.6452138813 & -9.627848e+00 & -9.603176e+00 & -9.591649e+00 & -9.582817e+00 & -9.568111e+00 & -9.554330e+00 & -9.530508e+00 & -9.503613e+00 & -9.498421e+00\\\\\n",
       "\tHQ(n) & -9.6111990420 & -9.571157e+00 & -9.523808e+00 & -9.489605e+00 & -9.458096e+00 & -9.420714e+00 & -9.384256e+00 & -9.337757e+00 & -9.288185e+00 & -9.260317e+00\\\\\n",
       "\tSC(n) & -9.5606988192 & -9.486990e+00 & -9.405974e+00 & -9.338104e+00 & -9.272929e+00 & -9.201879e+00 & -9.131755e+00 & -9.051589e+00 & -8.968350e+00 & -8.906816e+00\\\\\n",
       "\tFPE(n) &  0.0000647348 &  6.586933e-05 &  6.751593e-05 &  6.830093e-05 &  6.891038e-05 &  6.993645e-05 &  7.091408e-05 &  7.263327e-05 &  7.462573e-05 &  7.502964e-05\\\\\n",
       "\\end{tabular}\n",
       "\n",
       "\\end{description}\n"
      ],
      "text/markdown": [
       "$selection\n",
       ":   AIC(n)\n",
       ":   1HQ(n)\n",
       ":   1SC(n)\n",
       ":   1FPE(n)\n",
       ":   1\n",
       "\n",
       "\n",
       "$criteria\n",
       ":   \n",
       "A matrix: 4 × 10 of type dbl\n",
       "\n",
       "| <!--/--> | 1 | 2 | 3 | 4 | 5 | 6 | 7 | 8 | 9 | 10 |\n",
       "|---|---|---|---|---|---|---|---|---|---|---|\n",
       "| AIC(n) | -9.6452138813 | -9.627848e+00 | -9.603176e+00 | -9.591649e+00 | -9.582817e+00 | -9.568111e+00 | -9.554330e+00 | -9.530508e+00 | -9.503613e+00 | -9.498421e+00 |\n",
       "| HQ(n) | -9.6111990420 | -9.571157e+00 | -9.523808e+00 | -9.489605e+00 | -9.458096e+00 | -9.420714e+00 | -9.384256e+00 | -9.337757e+00 | -9.288185e+00 | -9.260317e+00 |\n",
       "| SC(n) | -9.5606988192 | -9.486990e+00 | -9.405974e+00 | -9.338104e+00 | -9.272929e+00 | -9.201879e+00 | -9.131755e+00 | -9.051589e+00 | -8.968350e+00 | -8.906816e+00 |\n",
       "| FPE(n) |  0.0000647348 |  6.586933e-05 |  6.751593e-05 |  6.830093e-05 |  6.891038e-05 |  6.993645e-05 |  7.091408e-05 |  7.263327e-05 |  7.462573e-05 |  7.502964e-05 |\n",
       "\n",
       "\n",
       "\n",
       "\n"
      ],
      "text/plain": [
       "$selection\n",
       "AIC(n)  HQ(n)  SC(n) FPE(n) \n",
       "     1      1      1      1 \n",
       "\n",
       "$criteria\n",
       "                   1             2             3             4             5\n",
       "AIC(n) -9.6452138813 -9.627848e+00 -9.603176e+00 -9.591649e+00 -9.582817e+00\n",
       "HQ(n)  -9.6111990420 -9.571157e+00 -9.523808e+00 -9.489605e+00 -9.458096e+00\n",
       "SC(n)  -9.5606988192 -9.486990e+00 -9.405974e+00 -9.338104e+00 -9.272929e+00\n",
       "FPE(n)  0.0000647348  6.586933e-05  6.751593e-05  6.830093e-05  6.891038e-05\n",
       "                   6             7             8             9            10\n",
       "AIC(n) -9.568111e+00 -9.554330e+00 -9.530508e+00 -9.503613e+00 -9.498421e+00\n",
       "HQ(n)  -9.420714e+00 -9.384256e+00 -9.337757e+00 -9.288185e+00 -9.260317e+00\n",
       "SC(n)  -9.201879e+00 -9.131755e+00 -9.051589e+00 -8.968350e+00 -8.906816e+00\n",
       "FPE(n)  6.993645e-05  7.091408e-05  7.263327e-05  7.462573e-05  7.502964e-05\n"
      ]
     },
     "metadata": {},
     "output_type": "display_data"
    }
   ],
   "source": [
    "lag_bitcoin"
   ]
  },
  {
   "cell_type": "code",
   "execution_count": 49,
   "metadata": {},
   "outputs": [
    {
     "data": {
      "image/png": "[encoded data removed]",
      "text/plain": [
       "plot without title"
      ]
     },
     "metadata": {
      "image/png": {
       "height": 420,
       "width": 420
      }
     },
     "output_type": "display_data"
    }
   ],
   "source": [
    "plot(data_ira$date, data_ira$google_trends_change, type = 'l')"
   ]
  },
  {
   "cell_type": "code",
   "execution_count": 50,
   "metadata": {},
   "outputs": [
    {
     "name": "stderr",
     "output_type": "stream",
     "text": [
      "1 rows dropped from the data frame because of missing values.\n",
      "\n"
     ]
    }
   ],
   "source": [
    "data_ira <- DropNA(data_ira, Var='lag_var')"
   ]
  },
  {
   "cell_type": "code",
   "execution_count": 51,
   "metadata": {},
   "outputs": [],
   "source": [
    "# Vector Auto-Regression model\n",
    "VAR_mod <- VAR(data_ira[, c('bitcoin_change', 'google_trends_change')],type = 'const', lag.max = 1, ic = 'SC')"
   ]
  },
  {
   "cell_type": "code",
   "execution_count": 52,
   "metadata": {},
   "outputs": [
    {
     "data": {
      "text/plain": [
       "\n",
       "VAR Estimation Results:\n",
       "======================= \n",
       "\n",
       "Estimated coefficients for equation bitcoin_change: \n",
       "=================================================== \n",
       "Call:\n",
       "bitcoin_change = bitcoin_change.l1 + google_trends_change.l1 + const \n",
       "\n",
       "      bitcoin_change.l1 google_trends_change.l1                   const \n",
       "           -0.044171621             0.025010809             0.006426156 \n",
       "\n",
       "\n",
       "Estimated coefficients for equation google_trends_change: \n",
       "========================================================= \n",
       "Call:\n",
       "google_trends_change = bitcoin_change.l1 + google_trends_change.l1 + const \n",
       "\n",
       "      bitcoin_change.l1 google_trends_change.l1                   const \n",
       "            -0.11456776             -0.08362170              0.01402826 \n",
       "\n"
      ]
     },
     "metadata": {},
     "output_type": "display_data"
    }
   ],
   "source": [
    "VAR_mod"
   ]
  },
  {
   "cell_type": "code",
   "execution_count": 53,
   "metadata": {},
   "outputs": [],
   "source": [
    "# granger causality\n",
    "gc<-causality(VAR_mod,cause = colnames(VAR_mod$datamat[2]))"
   ]
  },
  {
   "cell_type": "code",
   "execution_count": 54,
   "metadata": {},
   "outputs": [
    {
     "data": {
      "text/plain": [
       "$Granger\n",
       "\n",
       "\tGranger causality H0: google_trends_change do not Granger-cause\n",
       "\tbitcoin_change\n",
       "\n",
       "data:  VAR object VAR_mod\n",
       "F-Test = 7.305, df1 = 1, df2 = 510, p-value = 0.007106\n",
       "\n",
       "\n",
       "$Instant\n",
       "\n",
       "\tH0: No instantaneous causality between: google_trends_change and\n",
       "\tbitcoin_change\n",
       "\n",
       "data:  VAR object VAR_mod\n",
       "Chi-squared = 2.4035, df = 1, p-value = 0.1211\n",
       "\n"
      ]
     },
     "metadata": {},
     "output_type": "display_data"
    }
   ],
   "source": [
    "gc"
   ]
  },
  {
   "cell_type": "code",
   "execution_count": 55,
   "metadata": {},
   "outputs": [
    {
     "data": {
      "image/png": "[encoded data removed]",
      "text/plain": [
       "plot without title"
      ]
     },
     "metadata": {
      "image/png": {
       "height": 420,
       "width": 420
      }
     },
     "output_type": "display_data"
    },
    {
     "data": {
      "image/png": "[encoded data removed]",
      "text/plain": [
       "plot without title"
      ]
     },
     "metadata": {
      "image/png": {
       "height": 420,
       "width": 420
      }
     },
     "output_type": "display_data"
    }
   ],
   "source": [
    "# impulse response function\n",
    "plot(irf(VAR_mod, n.ahead=4))"
   ]
  },
  {
   "cell_type": "code",
   "execution_count": 56,
   "metadata": {},
   "outputs": [],
   "source": [
    "# Variance decomposition of forecast errors at 1,2,3,4 weeks horizon\n",
    "fevd1<-fevd(VAR_mod,n.ahead = 4)"
   ]
  },
  {
   "cell_type": "code",
   "execution_count": 57,
   "metadata": {},
   "outputs": [
    {
     "data": {
      "text/plain": [
       "$bitcoin_change\n",
       "     bitcoin_change google_trends_change\n",
       "[1,]      1.0000000           0.00000000\n",
       "[2,]      0.9721090           0.02789100\n",
       "[3,]      0.9716667           0.02833333\n",
       "[4,]      0.9716641           0.02833591\n",
       "\n",
       "$google_trends_change\n",
       "     bitcoin_change google_trends_change\n",
       "[1,]    0.009403559            0.9905964\n",
       "[2,]    0.009950423            0.9900496\n",
       "[3,]    0.009956652            0.9900433\n",
       "[4,]    0.009956677            0.9900433\n"
      ]
     },
     "metadata": {},
     "output_type": "display_data"
    }
   ],
   "source": [
    "fevd1"
   ]
  },
  {
   "cell_type": "code",
   "execution_count": 58,
   "metadata": {},
   "outputs": [],
   "source": [
    "fevd2<-fevd1$bitcoin_change"
   ]
  },
  {
   "cell_type": "code",
   "execution_count": 59,
   "metadata": {},
   "outputs": [],
   "source": [
    "fevdtab<-round(100*fevd2[c(1,2,3,4),],2)"
   ]
  },
  {
   "cell_type": "code",
   "execution_count": 60,
   "metadata": {},
   "outputs": [],
   "source": [
    "rownames(fevdtab)<-c(1,2,3,4)"
   ]
  },
  {
   "cell_type": "code",
   "execution_count": 61,
   "metadata": {},
   "outputs": [
    {
     "name": "stdout",
     "output_type": "stream",
     "text": [
      "  bitcoin_change google_trends_change\n",
      "1         100.00                 0.00\n",
      "2          97.21                 2.79\n",
      "3          97.17                 2.83\n",
      "4          97.17                 2.83\n"
     ]
    }
   ],
   "source": [
    "print(fevdtab)"
   ]
  }
 ],
 "metadata": {
  "kernelspec": {
   "display_name": "R",
   "language": "R",
   "name": "ir"
  },
  "language_info": {
   "codemirror_mode": "r",
   "file_extension": ".r",
   "mimetype": "text/x-r-source",
   "name": "R",
   "pygments_lexer": "r",
   "version": "4.0.3"
  }
 },
 "nbformat": 4,
 "nbformat_minor": 4
}
